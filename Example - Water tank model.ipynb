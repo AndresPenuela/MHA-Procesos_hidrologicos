{
 "cells": [
  {
   "cell_type": "markdown",
   "id": "ec2fec96",
   "metadata": {},
   "source": [
    "# Water tank model\n",
    "In this Notebook we are going to create a very simple model in which we are going to simulate the filling and emptying of a water tank that receives rainwater. The tank has a drainage pipe on the bottom that evacuates part of the water accumulated.\n",
    "\n",
    "## Characteristics of the tank\n",
    "The tank has a capacity (`s_max`) of 10 liters and the drain pipe has a capacity (`q_max`) to evacuate 3 liters per day.\n",
    "\n",
    "![](util/modelo_deposito_1.png)"
   ]
  },
  {
   "cell_type": "code",
   "execution_count": null,
   "id": "4c00696f",
   "metadata": {},
   "outputs": [],
   "source": [
    "s_max = 10\n",
    "q_max = 3"
   ]
  },
  {
   "cell_type": "markdown",
   "id": "1f56136e",
   "metadata": {},
   "source": [
    "Imagine that we have a rain forecast for the next 10 days and we would like to know what volume of water we will have in the tank each day. The rain forecast consists of a `rain` array with the 10 rain values for each day."
   ]
  },
  {
   "cell_type": "code",
   "execution_count": null,
   "id": "fcf1add3",
   "metadata": {},
   "outputs": [],
   "source": [
    "import numpy as np # import the NumPy library\n",
    "rain = np.array([3,15,2,2,6,0,1,0,0,5]) # Array with the forecast of rain (liters / day)"
   ]
  },
  {
   "cell_type": "markdown",
   "id": "4d65c664",
   "metadata": {},
   "source": [
    "Our objective is to obtain an array `s` with the 10 values of the volume of water in the tank for each day `t`. The model will simply consist of obtaining `s[t]` as the volume of water available (from the previous day) and entering the day (`rain[t]`) minus the water leaving the drain per day (`q`).\n",
    "\n",
    "![](util/modelo_deposito_2.png)\n",
    "\n",
    "We are going to see the calculation process step by step to understand it a little better.\n",
    "\n",
    "1) For `t = 0`\n",
    "- The equation to calculate the volume of water in the tank would be:\n",
    "```python\n",
    "s[t] = s_ini + rain[t] - q\n",
    "```\n",
    "where `s_ini` is the volume of water initially available and that we assume equal to 0.\n",
    "\n",
    "Since 3 liters of rainwater have entered in one day and the drain has a capacity of 3 liters per day, then `q = 3`. That is, what `[rain[0]` enters is equal to what `q` leaves and the reservoir does not store any water, `s[0] = 0`.\n",
    "\n",
    "This is how it would be written in Python:"
   ]
  },
  {
   "cell_type": "code",
   "execution_count": null,
   "id": "cb44aed7",
   "metadata": {},
   "outputs": [],
   "source": [
    "t = 0 # define the intial day\n",
    "s_ini = 0 # define the initial volume of water stored in the tank\n",
    "q = 3\n",
    "s[t] = s_ini + rain[t] - q"
   ]
  },
  {
   "cell_type": "markdown",
   "id": "54a2315e",
   "metadata": {},
   "source": [
    "When running the cell above it shows an error because the array `s` is not defined. I'm going to try again but now I'm going to define `s` with an initial value, say 0."
   ]
  },
  {
   "cell_type": "code",
   "execution_count": null,
   "id": "d6ed1d66",
   "metadata": {},
   "outputs": [],
   "source": [
    "t = 0 # define the intial day\n",
    "s_ini = 0 # define the initial volume of water stored in the tank\n",
    "q = 3\n",
    "s = 0\n",
    "s[t] = s_ini + rain[t] - q "
   ]
  },
  {
   "cell_type": "markdown",
   "id": "e4bbb1a4",
   "metadata": {},
   "source": [
    "😓 Again it shows an error...\n",
    "\n",
    "⚡ why?\n",
    "\n",
    "As we have said above, `s` must be an array (i.e. a structure of values) containing the values of the volume of the tank for the 10 days of the simulation. That is, `s[t]` **for t = 0, 1, ... 9**. However, the initial value that we have given to `s` has been an integer, specifically 0 and therefore Python does not recognize `s` as an array (or structure of values) but as an integer. And so if we tell it to store a value in the `s[t]` element, Python doesn't understand it since an integer is a single value, not a structure of 10 different values.\n",
    "\n",
    "Therefore we first have to create an initial array where the model will save the result for each of the days `t` (or simulation steps).\n",
    "\n",
    "😕 Sounds a bit weird, right? Do we need to define the result of the simulation before doing the calculations with the model??? Well, actually it is something very common in programming and in particular when we have calculations with time series in which at each time step (time-step) the values of the variables or arrays are updated with new values.\n",
    "\n",
    "## Declaration or initialization of arrays\n",
    "\n",
    "This is called **array declaration or initialization** or you can also find it as variable declaration. In essence, it consists of first creating the empty container where we are going to store the results in each step of the simulation (time-step).\n",
    "\n",
    "Imagine that we create a function to fill the ice tray, for example filling a hole in each step (time-step). Well, the declaration or initialization would consist of first creating an empty ice bucket and then tell the function what our ice tray is like, that is, how many holes there are (and what shape they have).\n",
    "\n",
    "![](util/inicializacion_array.png)\n",
    "\n",
    "When creating our empty ice bucket or empty array, what we are indicating to Python is the amount of space that it must reserve in memory to store the results of our model and also what type of data we are going to store. To initialize an array the best way is to create an array of zeros with the NumPy function `zeros`."
   ]
  },
  {
   "cell_type": "code",
   "execution_count": null,
   "id": "2c50338e",
   "metadata": {},
   "outputs": [],
   "source": [
    "s = np.zeros([10,1]) # create an array of zeros with 10 rows and 1 column"
   ]
  },
  {
   "cell_type": "markdown",
   "id": "d11b7c1b",
   "metadata": {},
   "source": [
    "If we now try again to calculate and store the result of the equation in s[t]:"
   ]
  },
  {
   "cell_type": "code",
   "execution_count": null,
   "id": "44130b53",
   "metadata": {},
   "outputs": [],
   "source": [
    "t = 0 # define the intial day\n",
    "s_ini = 0 # define the initial volume of water stored in the tank\n",
    "q = 3\n",
    "s[t] = s_ini + rain[t] - q "
   ]
  },
  {
   "cell_type": "markdown",
   "id": "4f62b31a",
   "metadata": {},
   "source": [
    "😊 No mistake! has `s` changed?"
   ]
  },
  {
   "cell_type": "code",
   "execution_count": null,
   "id": "6851250f",
   "metadata": {},
   "outputs": [],
   "source": [
    "s"
   ]
  },
  {
   "cell_type": "markdown",
   "id": "66a086c0",
   "metadata": {},
   "source": [
    "Let's go to the next day of simulation\n",
    "\n",
    "2) For `t = 1`\n",
    "\n",
    "- Now our initial volume will be the volume of the tank the day before: s[t-1]\n",
    "- The rain forecast is rain[1] = 15 liters\n",
    "- The equation to calculate the volume of water in the tank would be:\n",
    "```python\n",
    "s[t] = s[t-1] + rain[t] - q\n",
    "```\n",
    "![](util/modelo_deposito_4.png)"
   ]
  },
  {
   "cell_type": "markdown",
   "id": "bb00610f",
   "metadata": {},
   "source": [
    "⚡ What value would `q` have? and `s`? what is the equation that we should apply now?"
   ]
  },
  {
   "cell_type": "code",
   "execution_count": null,
   "id": "aa84b5de",
   "metadata": {},
   "outputs": [],
   "source": [
    "t = 1\n",
    "q = \n",
    "s[t] = "
   ]
  },
  {
   "cell_type": "markdown",
   "id": "ba6b76ca",
   "metadata": {},
   "source": [
    "Can we automate the calculation of `q`? If the water entering the reservoir is less than or equal to the drainage capacity, then all the water entering the reservoir leaves and nothing is stored in the reservoir, so `q = rain[t]`. On the other hand, if it rains more water than can be removed, then part of the water remains stored and as much as possible `q_max` comes out through the drain. In other words, `q` would be the **minimum** value between `rain[t]` and `q_max`"
   ]
  },
  {
   "cell_type": "code",
   "execution_count": null,
   "id": "8090114c",
   "metadata": {},
   "outputs": [],
   "source": [
    "q = \n"
   ]
  },
  {
   "cell_type": "markdown",
   "id": "776d3d37",
   "metadata": {},
   "source": [
    "Thus, the calculation would look like this:"
   ]
  },
  {
   "cell_type": "code",
   "execution_count": null,
   "id": "d79dfead",
   "metadata": {},
   "outputs": [],
   "source": [
    "t = 1\n",
    "q = \n",
    "s[t] = "
   ]
  },
  {
   "cell_type": "markdown",
   "id": "7a473bf5",
   "metadata": {},
   "source": [
    "Has `s` changed?"
   ]
  },
  {
   "cell_type": "code",
   "execution_count": null,
   "id": "0ff753b8",
   "metadata": {},
   "outputs": [],
   "source": [
    "s"
   ]
  },
  {
   "cell_type": "markdown",
   "id": "f93653a6",
   "metadata": {},
   "source": [
    "⚡ Do you see any problem? how can we solve it?"
   ]
  },
  {
   "cell_type": "code",
   "execution_count": null,
   "id": "815571d2",
   "metadata": {},
   "outputs": [],
   "source": [
    "t = 1\n",
    "q = \n",
    "s[t] = "
   ]
  },
  {
   "cell_type": "code",
   "execution_count": null,
   "id": "80d08fa9",
   "metadata": {},
   "outputs": [],
   "source": [
    "s"
   ]
  },
  {
   "cell_type": "markdown",
   "id": "c1d9138c",
   "metadata": {},
   "source": [
    "3) For `t = 2`\n",
    "\n",
    "- Our initial volume will be the volume of the tank the previous day: `s[t-1]`\n",
    "- The rain forecast is `rain[2]` = 2 liters\n",
    "\n",
    "![](util/modelo_deposito_5.png)\n",
    "\n",
    "- The calculation of the volume of water in the tank would be:"
   ]
  },
  {
   "cell_type": "code",
   "execution_count": null,
   "id": "7c54e28d",
   "metadata": {},
   "outputs": [],
   "source": [
    "t = 2\n",
    "q = np.min([rain[t], q_max])\n",
    "s[t] = np.min([s[t-1] + rain[t] - q, s_max]) "
   ]
  },
  {
   "cell_type": "markdown",
   "id": "1a907911",
   "metadata": {},
   "source": [
    "Has `s` changed?"
   ]
  },
  {
   "cell_type": "code",
   "execution_count": null,
   "id": "db1eb763",
   "metadata": {},
   "outputs": [],
   "source": [
    "s"
   ]
  },
  {
   "cell_type": "markdown",
   "id": "3dd7dd56",
   "metadata": {},
   "source": [
    "⚡ see something weird?\n",
    "\n",
    "How much water has been evacuated (`q`)?"
   ]
  },
  {
   "cell_type": "code",
   "execution_count": null,
   "id": "b35ec2b7",
   "metadata": {},
   "outputs": [],
   "source": [
    "q"
   ]
  },
  {
   "cell_type": "markdown",
   "id": "e8e86c58",
   "metadata": {},
   "source": [
    "⚡ Why the water evacuated is less than the capacity of the `q_max` drain?\n",
    "\n",
    "To calculate `q` we have only taken into account the volume of water that enters that day in the `rain[t]` tank, but shouldn't we also take into account the volume of water we have stored from the previous day `s[t-1] `?\n",
    "\n",
    "```python\n",
    "q = np.min([s[t-1] + rain[t], q_max])\n",
    "```\n",
    "\n",
    "Thus, the calculation would look like this:"
   ]
  },
  {
   "cell_type": "code",
   "execution_count": null,
   "id": "96029fca",
   "metadata": {},
   "outputs": [],
   "source": [
    "t = 2\n",
    "q = np.min([s[t-1] +  rain[t], q_max])\n",
    "s[t] = np.min([s[t-1] + rain[t] - q, s_max]) "
   ]
  },
  {
   "cell_type": "code",
   "execution_count": null,
   "id": "439a34f4",
   "metadata": {},
   "outputs": [],
   "source": [
    "q"
   ]
  },
  {
   "cell_type": "code",
   "execution_count": null,
   "id": "ea8b925a",
   "metadata": {},
   "outputs": [],
   "source": [
    "s"
   ]
  },
  {
   "cell_type": "markdown",
   "id": "52f6cee4",
   "metadata": {},
   "source": [
    "Using the formulas we have obtained above we can repeat the process for each `t` up to t = 9.\n",
    "\n",
    "![](util/modelo_deposito_6.png)\n",
    "\n",
    "But what if we instead use a loop function like `for` and save ourselves work and time?"
   ]
  },
  {
   "cell_type": "code",
   "execution_count": null,
   "id": "68ed9802",
   "metadata": {},
   "outputs": [],
   "source": [
    "timesteps =  # create an array called timesteps with the values that t will take in each step: 0,1,2 ...9\n",
    "s = np.zeros([10,1]) # we initialize the array s\n",
    "\n",
    "for t in timesteps: # for t equal to each element of timesteps\n",
    "     "
   ]
  },
  {
   "cell_type": "markdown",
   "id": "31c85885",
   "metadata": {},
   "source": [
    "This way we do all the calculations in a single cell with a few lines of code."
   ]
  },
  {
   "cell_type": "code",
   "execution_count": null,
   "id": "dfda34f4",
   "metadata": {},
   "outputs": [],
   "source": [
    "s"
   ]
  },
  {
   "cell_type": "markdown",
   "id": "ae74bdef",
   "metadata": {},
   "source": [
    "So, simply **two equations** that are executed inside a `for` loop is a **model** that simulates the filling and emptying of a water tank. As you can see, a model can be very simple and in reality, more complex models such as hydrological models are nothing more than combinations of various tanks representing each one a different hydrological process.\n",
    "\n",
    "![](util/ejemplos_modelos_hidrologicos.png)\n",
    "\n",
    "In order not to have to copy and paste the code every time we want to use it, we are going to create a function that contains our model. The function is called ***tank_model*** and has as inputs the characteristics of the reservoir `s_max` and `q_max` and the rain forecast `rain`:"
   ]
  },
  {
   "cell_type": "code",
   "execution_count": null,
   "id": "aafda2b4",
   "metadata": {},
   "outputs": [],
   "source": [
    "def tank_model(s_max, q_max, rain):\n",
    "    timesteps = np.arange(0,10,1) # \n",
    "    s = np.zeros([10,1]) # initialize the array s\n",
    "    \n",
    "    for t in timesteps:\n",
    "        q = np.min([s[t-1] +  rain[t], q_max])\n",
    "        s[t] = np.min([s[t-1] + rain[t] - q, s_max]) \n",
    "    \n",
    "    return s"
   ]
  },
  {
   "cell_type": "markdown",
   "id": "f5b526f5",
   "metadata": {},
   "source": [
    "Once our function is created, we can use it whenever we want."
   ]
  },
  {
   "cell_type": "code",
   "execution_count": null,
   "id": "343420ef",
   "metadata": {},
   "outputs": [],
   "source": [
    "s = tank_model(s_max, q_max, rain)"
   ]
  },
  {
   "cell_type": "code",
   "execution_count": null,
   "id": "f5b0eebd",
   "metadata": {},
   "outputs": [],
   "source": [
    "s"
   ]
  },
  {
   "cell_type": "markdown",
   "id": "386c86ed",
   "metadata": {},
   "source": [
    "We can also change the inputs of the function, if for example we want to test a different tank with a larger maximum volume `s_max`."
   ]
  },
  {
   "cell_type": "code",
   "execution_count": null,
   "id": "4e5ef135",
   "metadata": {},
   "outputs": [],
   "source": [
    "s_max = 15\n",
    "tank_model(s_max, q_max, rain)"
   ]
  },
  {
   "cell_type": "markdown",
   "id": "55e2dc18",
   "metadata": {},
   "source": [
    "Or if, for example, we want to use a longer-term rain forecast, for example for the next **15 days** (instead of 10)"
   ]
  },
  {
   "cell_type": "code",
   "execution_count": null,
   "id": "0bb047d7",
   "metadata": {},
   "outputs": [],
   "source": [
    "rain = np.array([3,15,2,2,6,0,1,0,0,5,3,9,8,2,0]) # 15-day rain forecast\n",
    "tank_model(s_max, q_max, rain)"
   ]
  },
  {
   "cell_type": "markdown",
   "id": "be1ce834",
   "metadata": {},
   "source": [
    "⚡ Do you see something weird in the result? is it the same result? why?\n",
    "\n",
    "If we look at the model code we see that both to define `timesteps` and to initialize `s` we have used 10 so that they would have the same elements as the rain forecast `rain` which intially was for 10 days.\n",
    "\n",
    "```python\n",
    "timesteps = np.arange(0,10,1)\n",
    "s = np.zeros([10,1])\n",
    "```\n",
    "However, this has changed and we should change the 10 to 15. But what if we later want to use a 5-day or 20-day forecast, do we have to change this value manually each time? What if we count the number of elements in `rain`, store it as a variable `T` and put it in place of `10`?"
   ]
  },
  {
   "cell_type": "code",
   "execution_count": null,
   "id": "38799696",
   "metadata": {},
   "outputs": [],
   "source": [
    "def tank_model(s_max, q_max, rain):\n",
    "    \n",
    "    timesteps =  \n",
    "    s = \n",
    "    \n",
    "    for t in timesteps:\n",
    "        q = np.min([s[t-1] +  rain[t], q_max])\n",
    "        s[t] = np.min([s[t-1] + rain[t] - q, s_max]) \n",
    "    \n",
    "    return s"
   ]
  },
  {
   "cell_type": "code",
   "execution_count": null,
   "id": "5a925dc1",
   "metadata": {},
   "outputs": [],
   "source": [
    "rain = np.array([3,15,2,2,6,0,1,0,0,5,3,9,8,2,0]) # 15-day rain forecast\n",
    "tank_model(s_max, q_max, rain)"
   ]
  },
  {
   "cell_type": "code",
   "execution_count": null,
   "id": "a93b95c2",
   "metadata": {},
   "outputs": [],
   "source": [
    "rain = np.array([3,15,2,2,6]) # 5-day rain forecast\n",
    "tank_model(s_max, q_max, rain)"
   ]
  },
  {
   "cell_type": "markdown",
   "id": "a15f9a3a",
   "metadata": {},
   "source": [
    "I think we can already say that our model works well enough. As you have seen, for our model we needed to create a function with `def` and apply a `for` loop and several Numpy functions: `size`, `arange`, `zeros`, `min`.\n",
    "\n",
    "⚡ Can you think of another way to write the model? could you define the equation\n",
    "```python\n",
    "q = np.min([s[t-1] + rain[t], q_max])\n",
    "```\n",
    "for example using conditional operations `if`, `else`?"
   ]
  },
  {
   "cell_type": "code",
   "execution_count": null,
   "id": "53606a96",
   "metadata": {},
   "outputs": [],
   "source": []
  },
  {
   "cell_type": "markdown",
   "id": "ec8a2ef9",
   "metadata": {},
   "source": [
    "⚡ Now create a new model called `tank_model_2` that is the same as `tank_model` but with the new way of calculating `q` that we have defined above."
   ]
  },
  {
   "cell_type": "code",
   "execution_count": null,
   "id": "0fc5dbc4",
   "metadata": {},
   "outputs": [],
   "source": [
    "def tank_model_2(s_max, q_max, rain):\n",
    "    T = np.size(rain)\n",
    "    \n",
    "    timesteps = np.arange(0,T,1) # \n",
    "    s = np.zeros([T,1]) # Inicializamos el array s\n",
    "    \n",
    "    for t in timesteps:\n",
    "\n",
    "        s[t] = np.min([s[t-1] + rain[t] - q, s_max]) \n",
    "    \n",
    "    return s"
   ]
  },
  {
   "cell_type": "code",
   "execution_count": null,
   "id": "8eaf1e6d",
   "metadata": {},
   "outputs": [],
   "source": [
    "rain = np.array([3,15,2,2,6,0,1,0,0,5,3,9,8,2,0]) # 15-day rain forecast\n",
    "tank_model_2(s_max, q_max, rain)"
   ]
  },
  {
   "cell_type": "code",
   "execution_count": null,
   "id": "10cf0a14",
   "metadata": {},
   "outputs": [],
   "source": []
  }
 ],
 "metadata": {
  "kernelspec": {
   "display_name": "Python 3 (ipykernel)",
   "language": "python",
   "name": "python3"
  },
  "language_info": {
   "codemirror_mode": {
    "name": "ipython",
    "version": 3
   },
   "file_extension": ".py",
   "mimetype": "text/x-python",
   "name": "python",
   "nbconvert_exporter": "python",
   "pygments_lexer": "ipython3",
   "version": "3.8.13"
  },
  "varInspector": {
   "cols": {
    "lenName": 16,
    "lenType": 16,
    "lenVar": 40
   },
   "kernels_config": {
    "python": {
     "delete_cmd_postfix": "",
     "delete_cmd_prefix": "del ",
     "library": "var_list.py",
     "varRefreshCmd": "print(var_dic_list())"
    },
    "r": {
     "delete_cmd_postfix": ") ",
     "delete_cmd_prefix": "rm(",
     "library": "var_list.r",
     "varRefreshCmd": "cat(var_dic_list()) "
    }
   },
   "types_to_exclude": [
    "module",
    "function",
    "builtin_function_or_method",
    "instance",
    "_Feature"
   ],
   "window_display": false
  }
 },
 "nbformat": 4,
 "nbformat_minor": 5
}
