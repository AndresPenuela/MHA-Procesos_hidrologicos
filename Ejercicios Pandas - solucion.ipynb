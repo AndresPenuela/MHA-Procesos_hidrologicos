{
 "cells": [
  {
   "cell_type": "markdown",
   "metadata": {},
   "source": [
    "# Ejercicios de Pandas 🐼 (+NumPy)\n",
    "Ahora que hemos aprendido algunos conceptos basicos de la libreria Pandas, vamos a hacer unos cuantos ejercicios combinando NumPy y Pandas, para refrescar ideas y para comprobar que habeis entendido estos conceptos.\n",
    "### 1. Importa la librería Pandas asignandole el nombre *pd* y NumPy asignandole el nombre *np*\n",
    "🚨 Atencion: Te cuidado con las mayusculas, normalmente el nombre de las librerias está en minusculas. Como normal general, siempre utiliza minusculas."
   ]
  },
  {
   "cell_type": "code",
   "execution_count": 1,
   "metadata": {},
   "outputs": [],
   "source": [
    "import pandas as pd\n",
    "import numpy as np"
   ]
  },
  {
   "cell_type": "markdown",
   "metadata": {},
   "source": [
    "### 2. Con la funcion *zeros*  de NumPy Crea un array de ceros de 365 filas y 1 columna que se llame *temp*\n",
    "🚨 Atencion: El numero de filas y columnas debe ir entre corchetes."
   ]
  },
  {
   "cell_type": "code",
   "execution_count": 2,
   "metadata": {},
   "outputs": [],
   "source": [
    "temp = np.zeros([365,1])"
   ]
  },
  {
   "cell_type": "markdown",
   "metadata": {},
   "source": [
    "### 3. Usando Pandas crea una serie temporal con las fechas de todos los dias de este año. Guardala en una variable que se llame *dates*\n",
    "🚨 Atencion: Cuidado con el orden de la fecha, primero el año, despues el mes y por ultimo el dia."
   ]
  },
  {
   "cell_type": "code",
   "execution_count": 3,
   "metadata": {},
   "outputs": [],
   "source": [
    "dates = pd.date_range(start = '2022-01-01', end = '2022-12-31')"
   ]
  },
  {
   "cell_type": "markdown",
   "metadata": {},
   "source": [
    "### 4. Ahora con Pandas crea un DataFrame que se llame *temp_df* en el que *dates* sea el indice y que contenga una columna con los datos de *temp*. Llama a dicha columna *'temperature (DegC)'*."
   ]
  },
  {
   "cell_type": "code",
   "execution_count": 4,
   "metadata": {},
   "outputs": [],
   "source": [
    "temp_df = pd.DataFrame(temp, index = dates, columns = ['temperature (DegC)'])"
   ]
  },
  {
   "cell_type": "markdown",
   "metadata": {},
   "source": [
    "### 5. Extrae solo la parte de *temp_df* que corresponda a Diciembre"
   ]
  },
  {
   "cell_type": "code",
   "execution_count": 5,
   "metadata": {},
   "outputs": [
    {
     "data": {
      "text/html": [
       "<div>\n",
       "<style scoped>\n",
       "    .dataframe tbody tr th:only-of-type {\n",
       "        vertical-align: middle;\n",
       "    }\n",
       "\n",
       "    .dataframe tbody tr th {\n",
       "        vertical-align: top;\n",
       "    }\n",
       "\n",
       "    .dataframe thead th {\n",
       "        text-align: right;\n",
       "    }\n",
       "</style>\n",
       "<table border=\"1\" class=\"dataframe\">\n",
       "  <thead>\n",
       "    <tr style=\"text-align: right;\">\n",
       "      <th></th>\n",
       "      <th>temperature (DegC)</th>\n",
       "    </tr>\n",
       "  </thead>\n",
       "  <tbody>\n",
       "    <tr>\n",
       "      <th>2022-12-01</th>\n",
       "      <td>0.0</td>\n",
       "    </tr>\n",
       "    <tr>\n",
       "      <th>2022-12-02</th>\n",
       "      <td>0.0</td>\n",
       "    </tr>\n",
       "    <tr>\n",
       "      <th>2022-12-03</th>\n",
       "      <td>0.0</td>\n",
       "    </tr>\n",
       "    <tr>\n",
       "      <th>2022-12-04</th>\n",
       "      <td>0.0</td>\n",
       "    </tr>\n",
       "    <tr>\n",
       "      <th>2022-12-05</th>\n",
       "      <td>0.0</td>\n",
       "    </tr>\n",
       "    <tr>\n",
       "      <th>2022-12-06</th>\n",
       "      <td>0.0</td>\n",
       "    </tr>\n",
       "    <tr>\n",
       "      <th>2022-12-07</th>\n",
       "      <td>0.0</td>\n",
       "    </tr>\n",
       "    <tr>\n",
       "      <th>2022-12-08</th>\n",
       "      <td>0.0</td>\n",
       "    </tr>\n",
       "    <tr>\n",
       "      <th>2022-12-09</th>\n",
       "      <td>0.0</td>\n",
       "    </tr>\n",
       "    <tr>\n",
       "      <th>2022-12-10</th>\n",
       "      <td>0.0</td>\n",
       "    </tr>\n",
       "    <tr>\n",
       "      <th>2022-12-11</th>\n",
       "      <td>0.0</td>\n",
       "    </tr>\n",
       "    <tr>\n",
       "      <th>2022-12-12</th>\n",
       "      <td>0.0</td>\n",
       "    </tr>\n",
       "    <tr>\n",
       "      <th>2022-12-13</th>\n",
       "      <td>0.0</td>\n",
       "    </tr>\n",
       "    <tr>\n",
       "      <th>2022-12-14</th>\n",
       "      <td>0.0</td>\n",
       "    </tr>\n",
       "    <tr>\n",
       "      <th>2022-12-15</th>\n",
       "      <td>0.0</td>\n",
       "    </tr>\n",
       "    <tr>\n",
       "      <th>2022-12-16</th>\n",
       "      <td>0.0</td>\n",
       "    </tr>\n",
       "    <tr>\n",
       "      <th>2022-12-17</th>\n",
       "      <td>0.0</td>\n",
       "    </tr>\n",
       "    <tr>\n",
       "      <th>2022-12-18</th>\n",
       "      <td>0.0</td>\n",
       "    </tr>\n",
       "    <tr>\n",
       "      <th>2022-12-19</th>\n",
       "      <td>0.0</td>\n",
       "    </tr>\n",
       "    <tr>\n",
       "      <th>2022-12-20</th>\n",
       "      <td>0.0</td>\n",
       "    </tr>\n",
       "    <tr>\n",
       "      <th>2022-12-21</th>\n",
       "      <td>0.0</td>\n",
       "    </tr>\n",
       "    <tr>\n",
       "      <th>2022-12-22</th>\n",
       "      <td>0.0</td>\n",
       "    </tr>\n",
       "    <tr>\n",
       "      <th>2022-12-23</th>\n",
       "      <td>0.0</td>\n",
       "    </tr>\n",
       "    <tr>\n",
       "      <th>2022-12-24</th>\n",
       "      <td>0.0</td>\n",
       "    </tr>\n",
       "    <tr>\n",
       "      <th>2022-12-25</th>\n",
       "      <td>0.0</td>\n",
       "    </tr>\n",
       "    <tr>\n",
       "      <th>2022-12-26</th>\n",
       "      <td>0.0</td>\n",
       "    </tr>\n",
       "    <tr>\n",
       "      <th>2022-12-27</th>\n",
       "      <td>0.0</td>\n",
       "    </tr>\n",
       "    <tr>\n",
       "      <th>2022-12-28</th>\n",
       "      <td>0.0</td>\n",
       "    </tr>\n",
       "    <tr>\n",
       "      <th>2022-12-29</th>\n",
       "      <td>0.0</td>\n",
       "    </tr>\n",
       "    <tr>\n",
       "      <th>2022-12-30</th>\n",
       "      <td>0.0</td>\n",
       "    </tr>\n",
       "    <tr>\n",
       "      <th>2022-12-31</th>\n",
       "      <td>0.0</td>\n",
       "    </tr>\n",
       "  </tbody>\n",
       "</table>\n",
       "</div>"
      ],
      "text/plain": [
       "            temperature (DegC)\n",
       "2022-12-01                 0.0\n",
       "2022-12-02                 0.0\n",
       "2022-12-03                 0.0\n",
       "2022-12-04                 0.0\n",
       "2022-12-05                 0.0\n",
       "2022-12-06                 0.0\n",
       "2022-12-07                 0.0\n",
       "2022-12-08                 0.0\n",
       "2022-12-09                 0.0\n",
       "2022-12-10                 0.0\n",
       "2022-12-11                 0.0\n",
       "2022-12-12                 0.0\n",
       "2022-12-13                 0.0\n",
       "2022-12-14                 0.0\n",
       "2022-12-15                 0.0\n",
       "2022-12-16                 0.0\n",
       "2022-12-17                 0.0\n",
       "2022-12-18                 0.0\n",
       "2022-12-19                 0.0\n",
       "2022-12-20                 0.0\n",
       "2022-12-21                 0.0\n",
       "2022-12-22                 0.0\n",
       "2022-12-23                 0.0\n",
       "2022-12-24                 0.0\n",
       "2022-12-25                 0.0\n",
       "2022-12-26                 0.0\n",
       "2022-12-27                 0.0\n",
       "2022-12-28                 0.0\n",
       "2022-12-29                 0.0\n",
       "2022-12-30                 0.0\n",
       "2022-12-31                 0.0"
      ]
     },
     "execution_count": 5,
     "metadata": {},
     "output_type": "execute_result"
    }
   ],
   "source": [
    "temp_df[temp_df.index.month == 12]"
   ]
  },
  {
   "cell_type": "code",
   "execution_count": 15,
   "metadata": {},
   "outputs": [
    {
     "data": {
      "text/plain": [
       "2022-01-01     7.819718\n",
       "2022-01-02     3.991387\n",
       "2022-01-03     4.474410\n",
       "2022-01-04     5.164708\n",
       "2022-01-05     3.045511\n",
       "                ...    \n",
       "2022-12-27     7.359244\n",
       "2022-12-28     7.370688\n",
       "2022-12-29    10.213693\n",
       "2022-12-30     3.848647\n",
       "2022-12-31     6.846278\n",
       "Freq: D, Name: temperature (DegC), Length: 365, dtype: float64"
      ]
     },
     "execution_count": 15,
     "metadata": {},
     "output_type": "execute_result"
    }
   ],
   "source": [
    "temp_df['temperature (DegC)']"
   ]
  },
  {
   "cell_type": "markdown",
   "metadata": {},
   "source": [
    "### 6. Ahora a los valores que corresponden a Enero dales el valor 5."
   ]
  },
  {
   "cell_type": "code",
   "execution_count": 6,
   "metadata": {},
   "outputs": [],
   "source": [
    "temp_df[temp_df.index.month == 1] = 5"
   ]
  },
  {
   "cell_type": "markdown",
   "metadata": {},
   "source": [
    "### 7. Ahora a los valores que corresponden a Febrero y Marzo dales el valor 7 y  10 respectivamente."
   ]
  },
  {
   "cell_type": "code",
   "execution_count": 7,
   "metadata": {},
   "outputs": [],
   "source": [
    "temp_df[temp_df.index.month == 2] = 7\n",
    "temp_df[temp_df.index.month == 3] = 10"
   ]
  },
  {
   "cell_type": "markdown",
   "metadata": {},
   "source": [
    "### 8. Crea un bucle que haga esta operacion automaticamente para cada mes. Empezando por Enero dales los valores siguientes a cada mes: 5, 7, 10, 14, 18, 23, 27, 30, 25, 20, 12, 6."
   ]
  },
  {
   "cell_type": "code",
   "execution_count": 8,
   "metadata": {},
   "outputs": [],
   "source": [
    "temp_month = np.array([5, 7, 10, 14, 18, 23, 27, 30, 25, 20, 12, 6])\n",
    "\n",
    "for i in np.arange(12):\n",
    "    temp_df[temp_df.index.month == i+1] = temp_month[i]"
   ]
  },
  {
   "cell_type": "markdown",
   "metadata": {},
   "source": [
    "O tambien podemos hacerlo asi"
   ]
  },
  {
   "cell_type": "code",
   "execution_count": 9,
   "metadata": {},
   "outputs": [],
   "source": [
    "temp_month = np.array([5, 7, 10, 14, 18, 23, 27, 30, 25, 20, 12, 6])\n",
    "\n",
    "for i in np.arange(1,13,1):\n",
    "    temp_df[temp_df.index.month == i] = temp_month[i-1]"
   ]
  },
  {
   "cell_type": "code",
   "execution_count": 10,
   "metadata": {},
   "outputs": [
    {
     "data": {
      "text/plain": [
       "<AxesSubplot:>"
      ]
     },
     "execution_count": 10,
     "metadata": {},
     "output_type": "execute_result"
    },
    {
     "data": {
      "image/png": "[encoded data removed]",
      "text/plain": [
       "<Figure size 432x288 with 1 Axes>"
      ]
     },
     "metadata": {
      "needs_background": "light"
     },
     "output_type": "display_data"
    }
   ],
   "source": [
    "temp_df.plot()"
   ]
  },
  {
   "cell_type": "markdown",
   "metadata": {},
   "source": [
    "### 9. Haz lo mismo pero ahora en vez de dar un valor igual para todos los dias de cada mes, dale un valor aleatorio a cada dia. El valor aleatorio lo generamos con una distribucion normal de media 5, 7, 10, 14, 18, 23, 27, 30, 25, 20, 12, 6 para cada mes y una desviacion estandar de 2 para todos los meses."
   ]
  },
  {
   "cell_type": "code",
   "execution_count": 11,
   "metadata": {},
   "outputs": [],
   "source": [
    "for i in np.arange(1,13,1):\n",
    "    num_days = np.size(temp_df[temp_df.index.month == i]) \n",
    "    temp_days = np.random.normal(loc=temp_month[i-1], scale = 2, size = [num_days,1])\n",
    "    temp_df[temp_df.index.month == i] = temp_days"
   ]
  },
  {
   "cell_type": "code",
   "execution_count": 12,
   "metadata": {},
   "outputs": [
    {
     "data": {
      "text/plain": [
       "<AxesSubplot:>"
      ]
     },
     "execution_count": 12,
     "metadata": {},
     "output_type": "execute_result"
    },
    {
     "data": {
      "image/png": "[encoded data removed]",
      "text/plain": [
       "<Figure size 432x288 with 1 Axes>"
      ]
     },
     "metadata": {
      "needs_background": "light"
     },
     "output_type": "display_data"
    }
   ],
   "source": [
    "temp_df.plot()"
   ]
  },
  {
   "cell_type": "code",
   "execution_count": null,
   "metadata": {},
   "outputs": [],
   "source": []
  }
 ],
 "metadata": {
  "kernelspec": {
   "display_name": "Python 3",
   "language": "python",
   "name": "python3"
  },
  "language_info": {
   "codemirror_mode": {
    "name": "ipython",
    "version": 3
   },
   "file_extension": ".py",
   "mimetype": "text/x-python",
   "name": "python",
   "nbconvert_exporter": "python",
   "pygments_lexer": "ipython3",
   "version": "3.8.8"
  }
 },
 "nbformat": 4,
 "nbformat_minor": 4
}
