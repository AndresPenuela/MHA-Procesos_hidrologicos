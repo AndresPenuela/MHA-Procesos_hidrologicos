{
 "cells": [
  {
   "cell_type": "markdown",
   "metadata": {},
   "source": [
    "# Creating and using functions\n",
    "In a function, the input data or inputs go through a set of expressions / operations (body of the function) that give a final result or output data of the function (outputs). **This is a very important concept because we need to use functions to create models. Actually, a model is basically a function!**\n",
    "\n",
    "## 1. Types of functions\n",
    "\n",
    "![](util/tipos_funciones.png)\n",
    "\n",
    "### 1.1 Functions created by ourselves (self-made functions)\n",
    "Always to define a function we must follow this template.\n",
    "\n",
    "![](util/plantilla_funcion.png)"
   ]
  },
  {
   "cell_type": "code",
   "execution_count": null,
   "metadata": {},
   "outputs": [],
   "source": [
    "def suma(x,y):\n",
    "    \"\"\"Simple function called \"suma\" that returns the sum of two inputs (x and y)\"\"\"\n",
    "    result = x + y\n",
    "    return result"
   ]
  },
  {
   "cell_type": "markdown",
   "metadata": {},
   "source": [
    "🚨 **Important**: Again, as we saw in conditional operations (`if`, `elif`, `else`) and with loops (`for`, `while`) the **indentation** is present in the functions.\n",
    "\n",
    "<img src=\"util/indentacion.png\" width=\"300px\">\n",
    "\n",
    "⚡**Exercise**: Now try to create a function like the one above but called `multiplica` that returns the multiplication of three input values x, y, z"
   ]
  },
  {
   "cell_type": "code",
   "execution_count": null,
   "metadata": {},
   "outputs": [],
   "source": []
  },
  {
   "cell_type": "markdown",
   "metadata": {},
   "source": [
    "⚡**Ejercise**: Can you create another version of the function `suma` but now without the need to create a variable to store the result?"
   ]
  },
  {
   "cell_type": "code",
   "execution_count": null,
   "metadata": {},
   "outputs": [],
   "source": []
  },
  {
   "cell_type": "markdown",
   "metadata": {},
   "source": [
    "From now on, as with variables, the `suma` and `multiplica` functions are stored in memory and we can use them whenever we want."
   ]
  },
  {
   "cell_type": "code",
   "execution_count": null,
   "metadata": {},
   "outputs": [],
   "source": [
    "x = 2\n",
    "y = 6\n",
    "suma(x,y)"
   ]
  },
  {
   "cell_type": "code",
   "execution_count": null,
   "metadata": {},
   "outputs": [],
   "source": [
    "suma(5,10)"
   ]
  },
  {
   "cell_type": "markdown",
   "metadata": {},
   "source": [
    "We can also specify the values that the inputs of a function will take by default if they are not specified. Let's modify the function `suma` so that it returns by default the sum of x=1 and y=1 if the values of x and y are not specified when we call the function."
   ]
  },
  {
   "cell_type": "code",
   "execution_count": null,
   "metadata": {},
   "outputs": [],
   "source": [
    "def suma(x=1,y=1):\n",
    "    \"\"\"Simple function called \"suma\" that returns the sum of two inputs (x and y)\"\"\"\n",
    "    result = x + y\n",
    "    return result"
   ]
  },
  {
   "cell_type": "code",
   "execution_count": null,
   "metadata": {},
   "outputs": [],
   "source": [
    "suma()"
   ]
  },
  {
   "cell_type": "markdown",
   "metadata": {},
   "source": [
    "⚡ What do you think that the cell below will give as result?"
   ]
  },
  {
   "cell_type": "code",
   "execution_count": null,
   "metadata": {},
   "outputs": [],
   "source": [
    "suma(8)"
   ]
  },
  {
   "cell_type": "markdown",
   "metadata": {},
   "source": [
    "### Documentation or help menu of a function\n",
    "\n",
    "Something very important that a function should always have is documentation and comments that explain the function itself and the expressions that it contains. The documentation of the function always comes at the beginning of the function between \"\"\". If we want to see this documentation of any function we can click on the name of the function and press Shift + Tab.\n",
    "\n",
    "![](util/ayuda_funcion.png)"
   ]
  },
  {
   "cell_type": "markdown",
   "metadata": {},
   "source": [
    "Let's now create a slightly more complicated function, with a `for` loop in the body of the function. The function that we are going to create is going to be called `suma_lista` (remember there cannot be spaces, so we use _ joining the two words) and it is going to calculate the sum of the values of a list."
   ]
  },
  {
   "cell_type": "code",
   "execution_count": null,
   "metadata": {},
   "outputs": [],
   "source": [
    "def suma_lista(x):\n",
    "    \"\"\"Calculates the sum of the values of a list\"\"\"\n",
    "    \n",
    "    result = 0 # initial value of the variable result (initialization of the variable)\n",
    "    \n",
    "    for i in x:\n",
    "        result = result + i\n",
    "        \n",
    "    return result"
   ]
  },
  {
   "cell_type": "markdown",
   "metadata": {},
   "source": [
    "Once we have defined the function, we can use it whenever we want"
   ]
  },
  {
   "cell_type": "code",
   "execution_count": null,
   "metadata": {},
   "outputs": [],
   "source": [
    "lista = [1,2,3,10,17,11,15,16,3]\n",
    "\n",
    "suma_lista(lista)"
   ]
  },
  {
   "cell_type": "markdown",
   "metadata": {},
   "source": [
    "### Examples\n",
    "We are going to create a function that takes a person's name as input and returns a greeting to that person."
   ]
  },
  {
   "cell_type": "code",
   "execution_count": null,
   "metadata": {},
   "outputs": [],
   "source": [
    "def saludo(name):\n",
    "     \"\"\"\n",
    "     This function greets the person with the name we entered as input\n",
    "     \"\"\"\n",
    "     print(\"Hello, \" + name + \". How are you?\")"
   ]
  },
  {
   "cell_type": "code",
   "execution_count": null,
   "metadata": {},
   "outputs": [],
   "source": [
    "saludo('Andres')"
   ]
  },
  {
   "cell_type": "markdown",
   "metadata": {},
   "source": [
    "And now we are going to create a function that takes your age as input and returns your birth year."
   ]
  },
  {
   "cell_type": "code",
   "execution_count": null,
   "metadata": {},
   "outputs": [],
   "source": [
    "def año_nacimiento(age):\n",
    "     \"\"\"\n",
    "     This function calculates your year of birth\n",
    "     \"\"\"\n",
    "     year = 2023 - age\n",
    "     print(\"Your year of birth is\" + year)\n",
    "    \n",
    "     return year"
   ]
  },
  {
   "cell_type": "code",
   "execution_count": null,
   "metadata": {},
   "outputs": [],
   "source": [
    "año_nacimiento(1990)"
   ]
  },
  {
   "cell_type": "markdown",
   "metadata": {},
   "source": [
    "⚡ why does it show an error? Hint: str = *string of characters* and int = *integer*\n",
    "\n",
    "We are going to create another function, which is not going to take **any input**."
   ]
  },
  {
   "cell_type": "code",
   "execution_count": null,
   "metadata": {},
   "outputs": [],
   "source": [
    "def my_function():\n",
    "     x = 10\n",
    "     print(\"The value of x inside the function is:\",x)\n",
    "\n",
    "x = 20\n",
    "my_function()\n",
    "print(\"The value of x outside the function is:\",x)"
   ]
  },
  {
   "cell_type": "markdown",
   "metadata": {},
   "source": [
    "Now we are going to create another version of the function but now with x as input"
   ]
  },
  {
   "cell_type": "code",
   "execution_count": null,
   "metadata": {},
   "outputs": [],
   "source": [
    "def my_function_2(x):\n",
    "     print(\"The value of x inside the function is:\",x)\n",
    "\n",
    "x = 20\n",
    "my_function_2(x)\n",
    "print(\"The value of x outside the function is:\",x)"
   ]
  },
  {
   "cell_type": "markdown",
   "metadata": {},
   "source": [
    "We are going to create another function that multiplies the value of x by 2"
   ]
  },
  {
   "cell_type": "code",
   "execution_count": null,
   "metadata": {},
   "outputs": [],
   "source": [
    "x = 20\n",
    "my_function_3(x)\n",
    "print(\"The value of x*2 outside the function is:\",x*2)\n",
    "\n",
    "def my_function_3(x):\n",
    "     print(\"The value of x*2 inside the function is:\",x*2)"
   ]
  },
  {
   "cell_type": "markdown",
   "metadata": {},
   "source": [
    "⚡ why does it show an error? Hint: order is important"
   ]
  },
  {
   "cell_type": "code",
   "execution_count": null,
   "metadata": {},
   "outputs": [],
   "source": []
  },
  {
   "cell_type": "markdown",
   "metadata": {},
   "source": [
    "Now a function in which the input has **a default value**"
   ]
  },
  {
   "cell_type": "code",
   "execution_count": null,
   "metadata": {},
   "outputs": [],
   "source": [
    "def my_function_4(x=1):\n",
    "     print(\"The value of x + 1 is:\", x + 1)\n",
    "\n",
    "my_function_4(3)"
   ]
  },
  {
   "cell_type": "code",
   "execution_count": null,
   "metadata": {},
   "outputs": [],
   "source": [
    "my_function_4()"
   ]
  },
  {
   "cell_type": "markdown",
   "metadata": {},
   "source": [
    "Another example but now with two inputs with default values"
   ]
  },
  {
   "cell_type": "code",
   "execution_count": null,
   "metadata": {},
   "outputs": [],
   "source": [
    "def my_function_5(x=1,y=1):\n",
    "     print(\"The value of x + y is:\", x + y)\n",
    "\n",
    "my_function_5(3,10)"
   ]
  },
  {
   "cell_type": "code",
   "execution_count": null,
   "metadata": {},
   "outputs": [],
   "source": [
    "my_function_5(3)"
   ]
  },
  {
   "cell_type": "code",
   "execution_count": null,
   "metadata": {},
   "outputs": [],
   "source": [
    "my_function_5()"
   ]
  },
  {
   "cell_type": "markdown",
   "metadata": {},
   "source": [
    "### 1.2 Python built-in functions\n",
    "Python has built-in functions that are always available.\n",
    "\n",
    "![](util/list_built_in_functions.png)"
   ]
  },
  {
   "cell_type": "markdown",
   "metadata": {},
   "source": [
    "One of these functions that comes built into Python is equivalent to the `suma_lista` function we just created, in the case of the Python function it is called `sum`. With it we can also add the values of a list."
   ]
  },
  {
   "cell_type": "code",
   "execution_count": null,
   "metadata": {},
   "outputs": [],
   "source": [
    "lista = [1,2,3,10,17,11,15,16,3]\n",
    "\n",
    "sum(lista)"
   ]
  },
  {
   "cell_type": "markdown",
   "metadata": {},
   "source": [
    "Other functions, for example, are used to calculate the maximum and minimum value of a list."
   ]
  },
  {
   "cell_type": "code",
   "execution_count": null,
   "metadata": {},
   "outputs": [],
   "source": [
    "lista = [3,5,-1]\n",
    "max(lista)"
   ]
  },
  {
   "cell_type": "code",
   "execution_count": null,
   "metadata": {},
   "outputs": [],
   "source": [
    "min(lista)"
   ]
  },
  {
   "cell_type": "markdown",
   "metadata": {},
   "source": [
    "Something very useful when working with loops is to create a sequence of integers as a list with the `range` function. To do so, between parentheses, we put the initial value of the sequence first, second we put the final value of the sequence (actually it is the final value minus one) and finally we put the step. If we do not define the step, by default the function interprets that is 1.\n",
    "\n",
    "```python\n",
    "range(start, end, [step])\n",
    "```"
   ]
  },
  {
   "cell_type": "code",
   "execution_count": null,
   "metadata": {},
   "outputs": [],
   "source": [
    "range(1, 10, 1)"
   ]
  },
  {
   "cell_type": "markdown",
   "metadata": {},
   "source": [
    "If we do not define the step we get the same result"
   ]
  },
  {
   "cell_type": "code",
   "execution_count": null,
   "metadata": {},
   "outputs": [],
   "source": [
    "range(1, 10)"
   ]
  },
  {
   "cell_type": "markdown",
   "metadata": {},
   "source": [
    "We can save that sequence as a variable."
   ]
  },
  {
   "cell_type": "code",
   "execution_count": null,
   "metadata": {},
   "outputs": [],
   "source": [
    "x = range(1,10,1)"
   ]
  },
  {
   "cell_type": "markdown",
   "metadata": {},
   "source": [
    "And we can extract concrete values from said sequence"
   ]
  },
  {
   "cell_type": "code",
   "execution_count": null,
   "metadata": {},
   "outputs": [],
   "source": [
    "x[0]"
   ]
  },
  {
   "cell_type": "code",
   "execution_count": null,
   "metadata": {},
   "outputs": [],
   "source": [
    "x[9]"
   ]
  },
  {
   "cell_type": "markdown",
   "metadata": {},
   "source": [
    "⚡ why can't we extract the element 9 of the sequence?\n",
    "\n",
    "With another Python built-in function called `len` we can know the number of elements or values of a list."
   ]
  },
  {
   "cell_type": "code",
   "execution_count": null,
   "metadata": {},
   "outputs": [],
   "source": [
    "len(x)"
   ]
  },
  {
   "cell_type": "markdown",
   "metadata": {},
   "source": [
    "The list has 9 elements but since the position of the elements starts counting from 0, the last element is in position 8"
   ]
  },
  {
   "cell_type": "code",
   "execution_count": null,
   "metadata": {},
   "outputs": [],
   "source": [
    "x[8]"
   ]
  },
  {
   "cell_type": "markdown",
   "metadata": {},
   "source": [
    "And why is the last value 9 and not 10? As we have already said in the range(start, end, [step]) function, the *end* value is the final value of the sequence minus 1. Yes, it doesn't make much sense 😤 but it's one of the things that are not very logical in Python and you should not forget because this is a common source of errors when you start programming in Python."
   ]
  },
  {
   "cell_type": "markdown",
   "metadata": {},
   "source": [
    "Other interesting and useful built-in functions are the `str`, `int` and `float` functions with which we can change the type of value, between character strings, integers and decimal numbers"
   ]
  },
  {
   "cell_type": "code",
   "execution_count": null,
   "metadata": {},
   "outputs": [],
   "source": [
    "str(100)"
   ]
  },
  {
   "cell_type": "code",
   "execution_count": null,
   "metadata": {},
   "outputs": [],
   "source": [
    "int(1.6)"
   ]
  },
  {
   "cell_type": "code",
   "execution_count": null,
   "metadata": {},
   "outputs": [],
   "source": [
    "float(2)"
   ]
  },
  {
   "cell_type": "markdown",
   "metadata": {},
   "source": [
    "⚡ Let's go back to our `año_nacimiento` function, can we fix it now?"
   ]
  },
  {
   "cell_type": "code",
   "execution_count": null,
   "metadata": {},
   "outputs": [],
   "source": [
    "def año_nacimiento(age):\n",
    "     \"\"\"\n",
    "     This function calculates your year of birth\n",
    "     \"\"\"\n",
    "     year = 2023 - age\n",
    "     print(\"Your year of birth is \" + year)\n",
    "    \n",
    "     return year"
   ]
  },
  {
   "cell_type": "code",
   "execution_count": null,
   "metadata": {},
   "outputs": [],
   "source": []
  },
  {
   "cell_type": "markdown",
   "metadata": {},
   "source": [
    "⚡ If you run the cell below, what do you think the value of `mi_año` will be?"
   ]
  },
  {
   "cell_type": "code",
   "execution_count": null,
   "metadata": {},
   "outputs": [],
   "source": [
    "mi_año = año_nacimiento(1990)\n",
    "mi_año"
   ]
  },
  {
   "cell_type": "code",
   "execution_count": null,
   "metadata": {},
   "outputs": [],
   "source": []
  }
 ],
 "metadata": {
  "kernelspec": {
   "display_name": "Python 3 (ipykernel)",
   "language": "python",
   "name": "python3"
  },
  "language_info": {
   "codemirror_mode": {
    "name": "ipython",
    "version": 3
   },
   "file_extension": ".py",
   "mimetype": "text/x-python",
   "name": "python",
   "nbconvert_exporter": "python",
   "pygments_lexer": "ipython3",
   "version": "3.8.13"
  }
 },
 "nbformat": 4,
 "nbformat_minor": 4
}
