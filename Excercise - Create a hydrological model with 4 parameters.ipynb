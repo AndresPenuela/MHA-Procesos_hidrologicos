{
 "cells": [
  {
   "cell_type": "markdown",
   "id": "afa0d8d9",
   "metadata": {},
   "source": [
    "# Excercise - Create a hydrological model\n",
    "## Model development\n",
    "Try to create a hydrological model to represent the soil and the hydrological processes represented in this diagram. Use the `water_tank` function (From the Notebook \"Example - Water tank model\" as a guideline). Assume that the capacity of the aquifer (saturated zone is infinite). The model has **4 parameters** `soil_capacity`, `interflow_max`, `baseflow_max` and `percolation_max`\n",
    "\n",
    "![bucket model](util/bucket_model.png)"
   ]
  },
  {
   "cell_type": "markdown",
   "id": "c671ffe5",
   "metadata": {},
   "source": [
    "## Inputs\n",
    "The inputs of the model are:"
   ]
  },
  {
   "cell_type": "code",
   "execution_count": 4,
   "id": "eac8cf61",
   "metadata": {},
   "outputs": [],
   "source": [
    "rainfall = [3,15,2,2,6,0,1,0,0,5] # in mm/day\n",
    "evaporation = [1,2,3,1,1,2,5,1,2,2] # in mm/day\n",
    "soil_capacity = 10 # mm\n",
    "interflow_max = 3 # mm/day\n",
    "baseflow_max = 1 # mm/day\n",
    "percolation_max = 2 # mm/day (daily flow rate from the unsaturated zone (soil) to the saturated zone (aquifer))"
   ]
  },
  {
   "cell_type": "markdown",
   "id": "0cf77e9d",
   "metadata": {},
   "source": [
    "## Import necessary libraries"
   ]
  },
  {
   "cell_type": "code",
   "execution_count": 5,
   "id": "dd5077d1",
   "metadata": {},
   "outputs": [],
   "source": []
  },
  {
   "cell_type": "markdown",
   "id": "db3ad4b4",
   "metadata": {},
   "source": [
    "## Define the model\n",
    "- write as many **comments/explanations** as possible in your code"
   ]
  },
  {
   "cell_type": "code",
   "execution_count": null,
   "id": "d9b43264",
   "metadata": {},
   "outputs": [],
   "source": []
  },
  {
   "cell_type": "markdown",
   "id": "62300fe4",
   "metadata": {},
   "source": [
    "## Run the model and plot the results\n",
    "Let's run our model with the inputs indicated above"
   ]
  },
  {
   "cell_type": "code",
   "execution_count": null,
   "id": "dbaf5ff3",
   "metadata": {},
   "outputs": [],
   "source": []
  },
  {
   "cell_type": "markdown",
   "id": "47b28542",
   "metadata": {},
   "source": [
    "## Check if the model works as expected\n",
    "We need to make sure that our model works well, for this puspose we check that the total inputs (rainfall) are equal to the total outputs (actual evaporation + total runoff). Note: we also need to check if in the last timestep some water remains stored in our system, either in the unsaturated zone as soil moisture or in the saturated zone as groundwater"
   ]
  },
  {
   "cell_type": "code",
   "execution_count": null,
   "id": "7c4304c4",
   "metadata": {},
   "outputs": [],
   "source": []
  },
  {
   "cell_type": "markdown",
   "id": "7895ec47",
   "metadata": {},
   "source": [
    "## Model calibration and validation\n",
    "Once you have created your model, do the calibration and validation of the model. For this purpose use the data from the file 'Datos/data example 2.xlsx'. Use the Notebooks **\"Example - Catchment hydrological model with 1 parameter - Solution\"** and **\"Example - Catchment hydrological model with 5 parameters\"** as a guideline.\n",
    "\n",
    "First we import the observed data (rain: rainfall, etp: potential evaporation, outflow: total runoff). Please note that these data are from a small catchment with a surface area = **500 ha**."
   ]
  },
  {
   "cell_type": "code",
   "execution_count": null,
   "id": "9ac02c92",
   "metadata": {},
   "outputs": [],
   "source": []
  },
  {
   "cell_type": "markdown",
   "id": "c134b754",
   "metadata": {},
   "source": [
    "Now we extract the observed rainfall and evaporation data from a single year, in this case 2018"
   ]
  },
  {
   "cell_type": "code",
   "execution_count": null,
   "id": "8b0f710f",
   "metadata": {},
   "outputs": [],
   "source": []
  },
  {
   "cell_type": "markdown",
   "id": "b6fe5b8e",
   "metadata": {},
   "source": [
    "And we run the model using the 2018 data"
   ]
  },
  {
   "cell_type": "code",
   "execution_count": null,
   "id": "f6d7d018",
   "metadata": {},
   "outputs": [],
   "source": []
  },
  {
   "cell_type": "markdown",
   "id": "e7a75ae7",
   "metadata": {},
   "source": [
    "Let's plot the model result (total runoff for 2018) against the observed runoff ('outflow')."
   ]
  },
  {
   "cell_type": "code",
   "execution_count": null,
   "id": "9c15c2b4",
   "metadata": {},
   "outputs": [],
   "source": []
  },
  {
   "cell_type": "markdown",
   "id": "40803815",
   "metadata": {},
   "source": [
    "Now **calibrate** the model for this year (2018). We will consider that `soil_capacity`, `interflow_max`, `baseflow_max` and `percolation_max` are the parameters of the model and which you need to calibrate and then validate. To evaluate the goodness-of-fit of the model results you need to compared the simulated `total_runoff` against the observed 'outflow'. Use the **Nash-Sutcliffe efficiency (NSE)** as goodness-of-fit indicator."
   ]
  },
  {
   "cell_type": "code",
   "execution_count": null,
   "id": "7242c068",
   "metadata": {},
   "outputs": [],
   "source": []
  },
  {
   "cell_type": "markdown",
   "id": "42cab0f3",
   "metadata": {},
   "source": [
    "*Optional*: implement **interactive visualization** elements, such as sliders to change the value of the parameters for the manual calibration."
   ]
  },
  {
   "cell_type": "code",
   "execution_count": null,
   "id": "6a3f3592",
   "metadata": {},
   "outputs": [],
   "source": []
  },
  {
   "cell_type": "markdown",
   "id": "ba675e9a",
   "metadata": {},
   "source": [
    "Now validate (evaluate) your calibrated model for a different year (run the model with the parameter values obtained during the calibration using rainfall and evapotranspiration data from a different year and evaluate the goodness-of-fit of the model results against the observed outflow)"
   ]
  },
  {
   "cell_type": "code",
   "execution_count": null,
   "id": "2676720c",
   "metadata": {},
   "outputs": [],
   "source": []
  }
 ],
 "metadata": {
  "kernelspec": {
   "display_name": "Python 3 (ipykernel)",
   "language": "python",
   "name": "python3"
  },
  "language_info": {
   "codemirror_mode": {
    "name": "ipython",
    "version": 3
   },
   "file_extension": ".py",
   "mimetype": "text/x-python",
   "name": "python",
   "nbconvert_exporter": "python",
   "pygments_lexer": "ipython3",
   "version": "3.8.13"
  },
  "varInspector": {
   "cols": {
    "lenName": 16,
    "lenType": 16,
    "lenVar": 40
   },
   "kernels_config": {
    "python": {
     "delete_cmd_postfix": "",
     "delete_cmd_prefix": "del ",
     "library": "var_list.py",
     "varRefreshCmd": "print(var_dic_list())"
    },
    "r": {
     "delete_cmd_postfix": ") ",
     "delete_cmd_prefix": "rm(",
     "library": "var_list.r",
     "varRefreshCmd": "cat(var_dic_list()) "
    }
   },
   "types_to_exclude": [
    "module",
    "function",
    "builtin_function_or_method",
    "instance",
    "_Feature"
   ],
   "window_display": false
  }
 },
 "nbformat": 4,
 "nbformat_minor": 5
}
