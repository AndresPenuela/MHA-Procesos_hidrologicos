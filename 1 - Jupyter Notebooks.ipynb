{
 "cells": [
  {
   "cell_type": "markdown",
   "metadata": {},
   "source": [
    "# Jupyter Notebooks\n",
    "Jupyter Notebooks is a friendly and accessible programming interface. It basically consists of a document (similar to a Word document) in which we can integrate text, images, graphics and the Python code, which we can execute. Notebooks can be easily shared with other people, for example with our teacher, supervisor or collaborator to explain what we have done and so they can check that the whole process is correct.\n",
    "\n",
    "The Notebook is divided cells, mainly of two types: code (Code) and text (Markdown). The text you are reading right now is inside a Markdown type cell. The cell below in gray color is a Code type cell where we can write Python code, execute it and see the results. Try executing the code below by clicking on the cell and then pressing the `SHIFT+Enter` keys (first press Shift and without releasing it press Enter).\n",
    "\n",
    "![ejecutar_celdas](util/ejecutar_celdas.png)"
   ]
  },
  {
   "cell_type": "code",
   "execution_count": null,
   "metadata": {},
   "outputs": [],
   "source": [
    "2 * 3"
   ]
  },
  {
   "cell_type": "markdown",
   "metadata": {},
   "source": [
    "Not only can you execute the cells, you can also edit them or create new ones. Try, for example, to edit the cell above so that instead of multiplying the values 2 and 3, it divides them and then runs the cell to see the result."
   ]
  },
  {
   "cell_type": "markdown",
   "metadata": {},
   "source": [
    "One of the most useful features of Jupyter Notebooks is that you can mix the code documentation (i.e. the explanation and hints of the code itself) with the code. To do this, Jupyter Notebooks gives us the option to choose whether the cell is of type Code or type Markdown. To choose the type of cell you must first click on the cell that we want to change and then go to the menu and click on the drop-down menu:\n",
    "\n",
    "![](util/menu_tipo_celda.png)\n",
    "\n",
    "Note: Although you will see that there are four types to choose from in the menu, in this course we are only going to use the first two.\n",
    "\n",
    "⚡ Now try to write any text, for example your name, in the cell below and execute the cell. "
   ]
  },
  {
   "cell_type": "code",
   "execution_count": null,
   "metadata": {},
   "outputs": [],
   "source": []
  },
  {
   "cell_type": "markdown",
   "metadata": {},
   "source": [
    "You will see that it gives you an error because the cell is of type Code by default and Python does not recognize your name as a valid function or variable. Now change the cell type to Markdown and run the cell, you will see that it appears in the same format as the text you are reading right now.\n",
    "\n",
    "We can also format the text. For example, to give the text a title format, we add the symbol #. Depending on the number of # that we put in a row, the title will be level 1, 2, 3...\n",
    "\n",
    "# for a level 1 title\n",
    "\n",
    "## for a level 2 title\n",
    "\n",
    "### for a level 3 title\n",
    "\n",
    "We can also write the text in bold by putting ** at the beginning and at the end of the text that we want to make bold or we can write the text in italics by putting * at the beginning and at the end of the text.\n",
    "\n",
    "In cells of *Code* type we can also insert text to, for example, explain the code. For this we must also use the # symbol."
   ]
  },
  {
   "cell_type": "code",
   "execution_count": null,
   "metadata": {},
   "outputs": [],
   "source": [
    "2 + 3 # in this line of code we add two integers"
   ]
  },
  {
   "cell_type": "markdown",
   "metadata": {},
   "source": [
    "Anything we put after the # symbol is ignored by Python.\n",
    "## Inserting equations\n",
    "To write formulas in Markdown type cells we need to put the formula text between $ signs and the formula itself should be written using LaTeX format.\n",
    "\n",
    "For example, `$sin(\\frac{2\\pi}{3})=\\frac{\\sqrt{3}}{2}$'`\n",
    "gives you as a result\n",
    "$sin(\\frac{2\\pi}{3})=\\frac{\\sqrt{3}}{2}$'"
   ]
  },
  {
   "cell_type": "markdown",
   "metadata": {},
   "source": [
    "## Inserting images\n",
    "We can only insert images in Markdown type cells and we must use the following syntax:\n",
    "\n",
    "**![alternative name](image location)**\n",
    "\n",
    "The location of the image can be the location of the file on our hard drive, for example:"
   ]
  },
  {
   "cell_type": "markdown",
   "metadata": {},
   "source": [
    "![mountain monkey](util/animals_gelada.jpg)"
   ]
  },
  {
   "cell_type": "markdown",
   "metadata": {},
   "source": [
    "Or it can be the link to an image from a web page, for example:"
   ]
  },
  {
   "cell_type": "markdown",
   "metadata": {},
   "source": [
    "![Imagen](https://animals.sandiegozoo.org/sites/default/files/2016-10/animals_hero_penguin_02_1.jpg)"
   ]
  },
  {
   "cell_type": "markdown",
   "metadata": {},
   "source": [
    "## Links to websties\n",
    "Jupyter Notebooks also allows us to insert links to web pages and for this we must use the following syntax:\n",
    "\n",
    "**[text](link address)**\n",
    "\n",
    "For example: [Click here to go to the UCO website](http://www.UCO.es)"
   ]
  },
  {
   "cell_type": "markdown",
   "metadata": {},
   "source": [
    "## Exercises\n",
    "\n",
    "### Exercise 1\n",
    "\n",
    "a) In the cell below make the following calculation (remember, to run a cell you must press the Shift + Enter keys)\n",
    "\n",
    "```python\n",
    "2 * 3 + 2\n",
    "```"
   ]
  },
  {
   "cell_type": "code",
   "execution_count": null,
   "metadata": {},
   "outputs": [],
   "source": []
  },
  {
   "cell_type": "markdown",
   "metadata": {
    "collapsed": true
   },
   "source": [
    "b) now do the following calculation\n",
    "```python\n",
    "2 * (3 + 2)\n",
    "```"
   ]
  },
  {
   "cell_type": "code",
   "execution_count": null,
   "metadata": {},
   "outputs": [],
   "source": []
  },
  {
   "cell_type": "markdown",
   "metadata": {},
   "source": [
    "Is the result different? why?\n",
    "\n",
    "c) Now, in the cell below, perform the following operation\n",
    "```python\n",
    "x = 2\n",
    "```"
   ]
  },
  {
   "cell_type": "code",
   "execution_count": null,
   "metadata": {},
   "outputs": [],
   "source": []
  },
  {
   "cell_type": "markdown",
   "metadata": {},
   "source": [
    "d) and now in the cell below perform the following operation\n",
    "```python\n",
    "print(x)\n",
    "```"
   ]
  },
  {
   "cell_type": "code",
   "execution_count": null,
   "metadata": {},
   "outputs": [],
   "source": []
  },
  {
   "cell_type": "markdown",
   "metadata": {},
   "source": [
    "As you can see, the value we have assigned to ***x*** remains stored in the computer's memory."
   ]
  },
  {
   "cell_type": "markdown",
   "metadata": {},
   "source": [
    "### Exercise 2\n",
    "a) Edit the title below, first change the cell to type *Markdown* and then make the title level 4. Finally run the cell."
   ]
  },
  {
   "cell_type": "code",
   "execution_count": null,
   "metadata": {},
   "outputs": [],
   "source": [
    "# This is title you should edit"
   ]
  },
  {
   "cell_type": "markdown",
   "metadata": {},
   "source": [
    "b) Now put the text of this cell that you are reading right now in bold (Note: to edit the Markdown type cells you must double click on them)"
   ]
  },
  {
   "cell_type": "markdown",
   "metadata": {},
   "source": [
    "c) And now put the text in this cell in italics"
   ]
  },
  {
   "cell_type": "markdown",
   "metadata": {},
   "source": [
    "### Exercise 3\n",
    "\n",
    "a) Simply execute the cell below"
   ]
  },
  {
   "cell_type": "code",
   "execution_count": 2,
   "metadata": {},
   "outputs": [],
   "source": [
    "# 2 ** 3"
   ]
  },
  {
   "cell_type": "markdown",
   "metadata": {},
   "source": [
    "Why doesn't it give you any results? Edit the cell above to get the expected result\n",
    "\n",
    "Now in the cell below put the # symbol in the correct place so that when executing the cell it does not show an error."
   ]
  },
  {
   "cell_type": "code",
   "execution_count": null,
   "metadata": {},
   "outputs": [],
   "source": [
    "y = 2 ** 3 In this line of code we assign the value 2 ** 3 to the variable y"
   ]
  },
  {
   "cell_type": "code",
   "execution_count": null,
   "metadata": {},
   "outputs": [],
   "source": [
    "y"
   ]
  },
  {
   "cell_type": "markdown",
   "metadata": {},
   "source": [
    "### Exercise 4\n",
    "Below there are two operations but they are in the wrong order, would you know how to put them in the correct order?"
   ]
  },
  {
   "cell_type": "code",
   "execution_count": null,
   "metadata": {},
   "outputs": [],
   "source": [
    "z * 2"
   ]
  },
  {
   "cell_type": "code",
   "execution_count": null,
   "metadata": {},
   "outputs": [],
   "source": [
    "z = 5"
   ]
  },
  {
   "cell_type": "markdown",
   "metadata": {},
   "source": [
    "### Exercise 5\n",
    "Insert a photo from the Internet in the cell below"
   ]
  },
  {
   "cell_type": "markdown",
   "metadata": {},
   "source": []
  },
  {
   "cell_type": "markdown",
   "metadata": {},
   "source": [
    "### Exercise 6\n",
    "Create a link to the Wikipedia page in the cell below."
   ]
  },
  {
   "cell_type": "markdown",
   "metadata": {},
   "source": []
  },
  {
   "cell_type": "markdown",
   "metadata": {},
   "source": [
    "### Exercise 7\n",
    "Create a link to the UCO page in the cell below but this time the link text should appear as a level 2 title."
   ]
  },
  {
   "cell_type": "markdown",
   "metadata": {},
   "source": []
  }
 ],
 "metadata": {
  "kernelspec": {
   "display_name": "Python 3 (ipykernel)",
   "language": "python",
   "name": "python3"
  },
  "language_info": {
   "codemirror_mode": {
    "name": "ipython",
    "version": 3
   },
   "file_extension": ".py",
   "mimetype": "text/x-python",
   "name": "python",
   "nbconvert_exporter": "python",
   "pygments_lexer": "ipython3",
   "version": "3.10.9"
  },
  "varInspector": {
   "cols": {
    "lenName": 16,
    "lenType": 16,
    "lenVar": 40
   },
   "kernels_config": {
    "python": {
     "delete_cmd_postfix": "",
     "delete_cmd_prefix": "del ",
     "library": "var_list.py",
     "varRefreshCmd": "print(var_dic_list())"
    },
    "r": {
     "delete_cmd_postfix": ") ",
     "delete_cmd_prefix": "rm(",
     "library": "var_list.r",
     "varRefreshCmd": "cat(var_dic_list()) "
    }
   },
   "types_to_exclude": [
    "module",
    "function",
    "builtin_function_or_method",
    "instance",
    "_Feature"
   ],
   "window_display": false
  }
 },
 "nbformat": 4,
 "nbformat_minor": 2
}
