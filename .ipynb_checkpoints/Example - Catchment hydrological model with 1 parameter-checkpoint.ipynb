{
 "cells": [
  {
   "cell_type": "markdown",
   "id": "32fd0f8a",
   "metadata": {},
   "source": [
    "# Catchment hydrological model with 1-parameter\n",
    "\n",
    "Let's create a very simple hydrological model that estimates the daily outflow of from a catchment as a function of the daily rainfall falling on the catchment area. The catchment of study is covered by both urban and agricultural land and has a surface area A = 500 ha\n",
    "\n",
    "![lumped model](util/Lumped_model.png).\n",
    "\n",
    "The model consists of a single equation to estimate the daily outflow $Q$ (m3/day):\n",
    "\n",
    "$Q = R * 0.001 * A * C$\n",
    "\n",
    "where $R$ is the daily rainfall (mm/day), $A$ is the catchment area (m2) and $C$ is the unique model parameter and which is unitless (-)\n",
    "\n",
    "Let's create the model using Python code and run it with some rainfall data to better understand how the model works.\n",
    "\n",
    "The first thing, as always, is to import the Python libraries that we are going to need."
   ]
  },
  {
   "cell_type": "code",
   "execution_count": null,
   "id": "9b7a948f",
   "metadata": {},
   "outputs": [],
   "source": [
    "import numpy as np\n",
    "import pandas as pd\n",
    "import matplotlib.pyplot as plt\n",
    "from ipywidgets import interact # to create interactive elements and figures"
   ]
  },
  {
   "cell_type": "markdown",
   "id": "4ba27ac2",
   "metadata": {},
   "source": [
    "## Load data\n",
    "We have observed daily rainfall (mm/day) and outflow (m3/day) data from 2010 to 2019 in a Excel file that we are going to load and save as a Pandas dataframe"
   ]
  },
  {
   "cell_type": "code",
   "execution_count": null,
   "id": "28d2f946",
   "metadata": {
    "scrolled": false
   },
   "outputs": [],
   "source": [
    "obs_data = pd.read_excel('datos/data example 2.xlsx', index_col = 'date')\n",
    "obs_data"
   ]
  },
  {
   "cell_type": "markdown",
   "id": "dad12ef2",
   "metadata": {},
   "source": [
    "Let's have a look at one specific year"
   ]
  },
  {
   "cell_type": "code",
   "execution_count": null,
   "id": "a41547ce",
   "metadata": {},
   "outputs": [],
   "source": [
    "year_of_study = 2018\n",
    "obs_data_year = obs_data[obs_data.index.year == year_of_study]\n",
    "obs_data_year"
   ]
  },
  {
   "cell_type": "markdown",
   "id": "31ec6ef9",
   "metadata": {},
   "source": [
    "Let's plot the rainfall data of the year of study"
   ]
  },
  {
   "cell_type": "code",
   "execution_count": null,
   "id": "adf3d884",
   "metadata": {},
   "outputs": [],
   "source": [
    "plt.figure(figsize = (15,3))\n",
    "plt.bar(obs_data_year.index, obs_data_year['rain'], color = 'blue')\n",
    "plt.ylabel('rain [mm/day]')"
   ]
  },
  {
   "cell_type": "markdown",
   "id": "abc76194",
   "metadata": {},
   "source": [
    "And the outflow data"
   ]
  },
  {
   "cell_type": "code",
   "execution_count": null,
   "id": "9fdc6786",
   "metadata": {
    "scrolled": false
   },
   "outputs": [],
   "source": [
    "plt.figure(figsize = (15,3))\n",
    "plt.plot(obs_data_year.index, obs_data_year['outflow'], color = 'black')\n",
    "plt.ylabel('outflow [m3/day]')"
   ]
  },
  {
   "cell_type": "markdown",
   "id": "4080eecd",
   "metadata": {},
   "source": [
    "Now, let's create our model. For this purpose we define a function called *hydro_model*"
   ]
  },
  {
   "cell_type": "code",
   "execution_count": null,
   "id": "36c9bf32",
   "metadata": {},
   "outputs": [],
   "source": [
    "def hydro_model(R,A,C): # model inputs are always between ()\n",
    "    \n",
    "    Q = R *0.001 * A * C # equation to estimate the catchment outflow Q. Note: 0.001 is to transform the rainfall (mm) into m    \n",
    "    \n",
    "    return Q"
   ]
  },
  {
   "cell_type": "markdown",
   "id": "07be23bb",
   "metadata": {},
   "source": [
    "We run the model we have just created by calling the function and defining the inputs"
   ]
  },
  {
   "cell_type": "code",
   "execution_count": null,
   "id": "45901376",
   "metadata": {},
   "outputs": [],
   "source": [
    "# Inputs\n",
    "A = 500 * 10000 # ha to m2\n",
    "C = 0.5\n",
    "# Create an empty dataframe where we will save the model results\n",
    "sim_data_year = pd.DataFrame(0, index=obs_data_year.index, columns = ['rain','outflow'])\n",
    "sim_data_year['rain'] = obs_data_year['rain']\n",
    "sim_data_year"
   ]
  },
  {
   "cell_type": "code",
   "execution_count": null,
   "id": "e920bcb5",
   "metadata": {},
   "outputs": [],
   "source": [
    "# Run the model and store the result the dataframe that we have just created\n",
    "sim_data_year['outflow'] = hydro_model(sim_data_year['rain'], A, C)\n",
    "# Show results\n",
    "sim_data_year"
   ]
  },
  {
   "cell_type": "markdown",
   "id": "6000ce47",
   "metadata": {},
   "source": [
    "Now we can compare the observed data with the model results by plotting both time series"
   ]
  },
  {
   "cell_type": "code",
   "execution_count": null,
   "id": "c78f2898",
   "metadata": {},
   "outputs": [],
   "source": [
    "plt.figure(figsize = (15,3))\n",
    "plt.plot(obs_data_year.index,obs_data_year['outflow'],color = 'black',label = 'obs')\n",
    "plt.plot(sim_data_year.index,sim_data_year['outflow'],color = 'darkblue', label = 'sim',alpha = 0.6)\n",
    "plt.ylabel('outflow [m3/day]')"
   ]
  },
  {
   "cell_type": "markdown",
   "id": "35485d6a",
   "metadata": {},
   "source": [
    "## Goodness-of-fit\n",
    "To measure if the simulated values with a model are close to the observed data values we use googness-of-fit indicators. We are going to see three: the root mean squared error, the Nash-Sutcliffe efficiency and the coefficient of determination \n",
    "\n",
    "### Root mean squared error (RMSE)\n",
    "The RMSE is the square root of the variance of the residuals. It indicates the absolute fit of the model to the data–how close the observed data points are to the model’s predicted values. Whereas R-squared is a relative measure of fit, RMSE is an absolute measure of fit. As the square root of a variance, RMSE can be interpreted as the standard deviation of the unexplained variance. It has the useful property of being in the same units as the response variable. Lower values of RMSE indicate better fit. RMSE is a good measure of how accurately the model predicts the response. \n",
    "\n",
    "$RMSE = \\sqrt{(\\frac{1}{n})\\sum_{i=1}^{n}(sim_{i} - obs_{i})^{2}}$\n",
    "\n",
    "### Nash-Sutcliffe efficiency (NSE)\n",
    "The NSE indicates how well the plot of observed versus simulated data fits the 1:1 line. Nash-Sutcliffe efficiencies range from -Inf to 1. Essentially, the closer to 1, the more accurate the model is. -) NSE = 1, corresponds to a perfect match of modelled to the observed data.\n",
    "\n",
    "Let's create two functions to compute RMSE and NSE\n",
    "\n",
    "$NSE = 1 - \\frac{\\sum_{i=1}^{n}(sim_{i} - obs_{i})^{2}}{\\sum_{i=1}^{n}(obs_{i} - \\overline{obs})^{2}}$"
   ]
  },
  {
   "cell_type": "code",
   "execution_count": null,
   "id": "269f34b9",
   "metadata": {},
   "outputs": [],
   "source": [
    "def RMSE_function(obs,sim):\n",
    "    \n",
    "    RMSE = np.sqrt(((sim - obs) ** 2).mean())\n",
    "    return RMSE\n",
    "\n",
    "def NSE_function(obs,sim):\n",
    "    NSE = (1 - (sum((sim - obs) ** 2) / sum((obs - np.mean(obs))**2)))\n",
    "    \n",
    "    return NSE\n",
    "\n",
    "RMSE = RMSE_function(obs_data_year['outflow'],sim_data_year['outflow'])\n",
    "NSE  = NSE_function(obs_data_year['outflow'],sim_data_year['outflow'])"
   ]
  },
  {
   "cell_type": "markdown",
   "id": "f1414823",
   "metadata": {},
   "source": [
    "Let's plot the simulated outlflow vs the observed outflow"
   ]
  },
  {
   "cell_type": "code",
   "execution_count": null,
   "id": "94f59570",
   "metadata": {},
   "outputs": [],
   "source": [
    "plt.figure(figsize=(15,5)) #\n",
    "plt.plot(obs_data_year.index,obs_data_year['outflow'],color = 'black',label = 'obs')\n",
    "plt.plot(sim_data_year.index,sim_data_year['outflow'],color = 'darkblue', label = 'sim',alpha = 0.6)\n",
    "plt.ylabel('m3/day')\n",
    "plt.ylim(0,200000)\n",
    "plt.title(f'Root mean squared error: {round(RMSE)} - Nash–Sutcliffe efficiency: {round(NSE,2)}',fontsize = 15)\n",
    "plt.legend()\n",
    "plt.show()"
   ]
  },
  {
   "cell_type": "markdown",
   "id": "cc17dd1b",
   "metadata": {},
   "source": [
    "Now let's combine the figure above with the plot of the daily rainfall"
   ]
  },
  {
   "cell_type": "code",
   "execution_count": null,
   "id": "8e08371f",
   "metadata": {},
   "outputs": [],
   "source": [
    "fig, ax =plt.subplots(2,1,figsize=(15,6)) #\n",
    "ax[0].bar(obs_data_year.index,obs_data_year['rain'],color = 'blue',label = 'rain')\n",
    "ax[0].set(ylabel='mm/day')\n",
    "ax[0].legend()\n",
    "ax[1].plot(obs_data_year.index,obs_data_year['outflow'],color = 'black',label = 'obs')\n",
    "ax[1].plot(sim_data_year.index,sim_data_year['outflow'],color = 'darkblue', label = 'sim', alpha = 0.6)\n",
    "ax[1].set(ylabel='m3/day')\n",
    "plt.ylim(0,200000)\n",
    "ax[1].legend()"
   ]
  },
  {
   "cell_type": "markdown",
   "id": "922877ae",
   "metadata": {},
   "source": [
    "And now in the same graph"
   ]
  },
  {
   "cell_type": "code",
   "execution_count": null,
   "id": "705c053b",
   "metadata": {},
   "outputs": [],
   "source": [
    "fig, ax =plt.subplots(figsize=(15,6)) #\n",
    "\n",
    "ax.plot(obs_data_year.index,obs_data_year['outflow'],color = 'black',label = 'obs')\n",
    "ax.plot(sim_data_year.index,sim_data_year['outflow'],color = 'darkblue', label = 'sim', alpha = 0.6)\n",
    "ax.set(ylabel='m3/day', ylim =[0 ,300000])\n",
    "ax.legend(loc = 6)\n",
    "\n",
    "ax2 = ax.twinx()\n",
    "ax2.bar(obs_data_year.index,obs_data_year['rain'],color = 'blue',label = 'rain')\n",
    "ax2.set(ylabel='mm/day', ylim =[0 ,100])\n",
    "plt.gca().invert_yaxis()\n",
    "ax2.legend(loc = 7)"
   ]
  },
  {
   "cell_type": "markdown",
   "id": "a013b524",
   "metadata": {},
   "source": [
    "Even better, let's make the figure interactive, so we can choose the value of $C$ and the year of study"
   ]
  },
  {
   "cell_type": "code",
   "execution_count": null,
   "id": "f6cc57c0",
   "metadata": {},
   "outputs": [],
   "source": [
    "@interact(C = (0,1,0.05), year_of_study = range(2010,2020))\n",
    "def interactive_figure_1(C = 0, year_of_study = 2010):\n",
    "\n",
    "    obs_data_year = obs_data[obs_data.index.year == year_of_study] # to select only data from to the year that we want to study\n",
    "    \n",
    "    # Create an empty dataframe where we will save the model results\n",
    "    sim_data_year = pd.DataFrame(0, index=obs_data_year.index, columns = ['rain','outflow'])\n",
    "    sim_data_year['rain'] = obs_data_year['rain']\n",
    "    # Run the model\n",
    "    sim_data_year['outflow'] = hydro_model(sim_data_year['rain'], A, C)\n",
    "\n",
    "    RMSE = RMSE_function(obs_data_year['outflow'],sim_data_year['outflow'])\n",
    "    NSE  = NSE_function(obs_data_year['outflow'],sim_data_year['outflow'])\n",
    "    \n",
    "    fig, ax = plt.subplots(2,1,figsize=(15,5),sharex = True)\n",
    "    ax[0].bar(obs_data_year.index,obs_data_year['rain'],color = 'blue',label = 'rain')\n",
    "    ax[0].set(ylabel='mm/day')\n",
    "    ax[0].legend()\n",
    "    ax[1].plot(obs_data_year.index,obs_data_year['outflow'],color = 'black',label = 'obs')\n",
    "    ax[1].plot(sim_data_year.index,sim_data_year['outflow'],color = 'darkblue', label = 'sim', alpha = 0.6)\n",
    "    ax[1].set(ylabel='m3/day', ylim = [0,200000])\n",
    "    ax[1].set_title('Root mean squared error: '+str(round(RMSE))+ ' - Nash–Sutcliffe efficiency: '+str(round(NSE,2)))\n",
    "    ax[1].legend()"
   ]
  },
  {
   "cell_type": "markdown",
   "id": "6d1522e1",
   "metadata": {},
   "source": [
    "### Excercise \n",
    "Modifiy the code of the model so you can run the model more than one year, for example, from 2010 to 2015, instead of only one year."
   ]
  },
  {
   "cell_type": "code",
   "execution_count": null,
   "id": "a8735ede",
   "metadata": {},
   "outputs": [],
   "source": []
  },
  {
   "cell_type": "markdown",
   "id": "8218fffa",
   "metadata": {},
   "source": [
    "What we have done is to **calibrate** our model for a selected period of study. Now for the rest of the data we can do the **validation** of our model, i.e. use the same C value that you obtained in the calibration and apply to the rest of the data"
   ]
  },
  {
   "cell_type": "code",
   "execution_count": null,
   "id": "3365e00e",
   "metadata": {},
   "outputs": [],
   "source": []
  },
  {
   "cell_type": "markdown",
   "id": "0ee8f465",
   "metadata": {},
   "source": [
    "### Questions\n",
    "- Is this a good hydrological model? why?\n",
    "- Does it represent the main hydrological processes that take place in the catchment?\n",
    "- What does the parameter C represents?\n",
    "- Would you define this model as a black-box model or a conceptual model?\n",
    "- What is the best value of C for all the years of study?\n",
    "- Which goodness-of-fit coefficient is better, RMSE or NSE?"
   ]
  },
  {
   "cell_type": "markdown",
   "id": "9a2e4f1f",
   "metadata": {},
   "source": [
    "### Coefficient of determination (r<sup>2</sup>)\n",
    "The coefficient of determination r<sup>2</sup> is defined as the squared value of the coefficient of correlation according to Pearson. It estimates the combined dispersion against the single dispersion of the observed and predicted series. The range of r lies between 0 and 1 which describes how much of the observed dispersion is explained by the prediction. A value of zero means no correlation at all whereas a value of 1 means that the dispersion of the prediction is equal to that of the observation. \n",
    "\n",
    "Let's define a function to compute r<sup>2</sup>"
   ]
  },
  {
   "cell_type": "code",
   "execution_count": null,
   "id": "a0f26010",
   "metadata": {},
   "outputs": [],
   "source": [
    "def r2_function(obs,sim):\n",
    "    r2 = (sum((obs - np.mean(obs))*(sim - np.mean(sim)))/\n",
    "          (np.sqrt(sum((obs - np.mean(obs))**2))*np.sqrt(sum((sim - np.mean(sim))**2))))**2\n",
    "    return r2"
   ]
  },
  {
   "cell_type": "markdown",
   "id": "385ef10d",
   "metadata": {},
   "source": [
    "Now let's plot an interactive figure to see how r<sup>2</sup> changes with $C$"
   ]
  },
  {
   "cell_type": "code",
   "execution_count": null,
   "id": "991d4470",
   "metadata": {
    "scrolled": false
   },
   "outputs": [],
   "source": [
    "@interact(C = (0,1,0.05), year_of_study = range(2010,2020))\n",
    "def interactive_figure_2(C = 0, year_of_study = 2011):\n",
    "    \n",
    "    obs_data_year = obs_data[obs_data.index.year == year_of_study] # to select only data from to the year that we want to study\n",
    "    \n",
    "    # Create an empty dataframe where we will save the model results\n",
    "    sim_data_year = pd.DataFrame(0, index=obs_data_year.index, columns = ['rain','outflow'])\n",
    "    sim_data_year['rain'] = obs_data_year['rain']\n",
    "    # Run the model\n",
    "    sim_data_year['outflow'] = hydro_model(sim_data_year['rain'], A, C)\n",
    "    \n",
    "    r2  = r2_function(obs_data_year['outflow'],sim_data_year['outflow'])\n",
    "    outflow_corr = obs_data_year.corrwith(sim_data_year)['outflow']\n",
    "    \n",
    "    RMSE = RMSE_function(obs_data_year['outflow'],sim_data_year['outflow'])\n",
    "    NSE  = NSE_function(obs_data_year['outflow'],sim_data_year['outflow'])\n",
    "    \n",
    "    fig, ax = plt.subplots(1,2,figsize=(15,6))\n",
    "    ax[0].scatter(obs_data_year['outflow'],sim_data_year['outflow'],color = 'red')\n",
    "    ax[0].plot([0,300000],[0,300000], color = 'black')\n",
    "    ax[0].set(xlabel = 'obs (m3/day)',ylabel = 'sim (m3/day)', xlim = [0,300000], ylim = [0,300000])\n",
    "    ax[0].set_title('Parameter C = '+str(C)+' - Coefficient of determination = '+str(round(r2,2)))\n",
    "    \n",
    "    ax[1].plot(obs_data_year.index,obs_data_year['outflow'],color = 'black',label = 'obs')\n",
    "    ax[1].plot(sim_data_year.index,sim_data_year['outflow'],color = 'green', label = 'sim')\n",
    "    ax[1].set(ylabel='m3/day', ylim = [0,300000])\n",
    "    ax[1].set_title('Root mean squared error: '+str(round(RMSE))+ ' - Nash–Sutcliffe efficiency: '+str(round(NSE,2)))\n",
    "    ax[1].legend()"
   ]
  },
  {
   "cell_type": "markdown",
   "id": "5824abaf",
   "metadata": {},
   "source": [
    "### Questions\n",
    "- Is the coefficient of determination a good indicator to assess the performance of the model? why? "
   ]
  },
  {
   "cell_type": "code",
   "execution_count": null,
   "id": "5472c7b2",
   "metadata": {},
   "outputs": [],
   "source": []
  }
 ],
 "metadata": {
  "kernelspec": {
   "display_name": "Python 3 (ipykernel)",
   "language": "python",
   "name": "python3"
  },
  "language_info": {
   "codemirror_mode": {
    "name": "ipython",
    "version": 3
   },
   "file_extension": ".py",
   "mimetype": "text/x-python",
   "name": "python",
   "nbconvert_exporter": "python",
   "pygments_lexer": "ipython3",
   "version": "3.8.13"
  },
  "varInspector": {
   "cols": {
    "lenName": 16,
    "lenType": 16,
    "lenVar": 40
   },
   "kernels_config": {
    "python": {
     "delete_cmd_postfix": "",
     "delete_cmd_prefix": "del ",
     "library": "var_list.py",
     "varRefreshCmd": "print(var_dic_list())"
    },
    "r": {
     "delete_cmd_postfix": ") ",
     "delete_cmd_prefix": "rm(",
     "library": "var_list.r",
     "varRefreshCmd": "cat(var_dic_list()) "
    }
   },
   "types_to_exclude": [
    "module",
    "function",
    "builtin_function_or_method",
    "instance",
    "_Feature"
   ],
   "window_display": false
  }
 },
 "nbformat": 4,
 "nbformat_minor": 5
}
