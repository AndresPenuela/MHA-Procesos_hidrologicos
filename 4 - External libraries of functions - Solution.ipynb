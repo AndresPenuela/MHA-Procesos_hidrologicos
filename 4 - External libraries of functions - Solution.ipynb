{
 "cells": [
  {
   "cell_type": "markdown",
   "metadata": {},
   "source": [
    "# External libraries of functions\n",
    "External libraries contain functions that perform specific tasks such as statistical analysis or data visualization. These libraries complement the functions of Python (built-in functions) and to be able to use them **we need import them** into our Notebook. We are going to look only at some of the most popular Python libraries like NumPy and Pandas. The libraries that we will see come with Anaconda so we will not need to install them. These are some of the external libraries that Anaconda has installed by default.\n",
    "\n",
    "<img src='util/Anaconda_librerias.png'>\n",
    "\n",
    "## 1. NumPy\n",
    "NumPy is a library of mathematical functions that is very popular for performing mathematical operations on vectors and matrices. NumPy has many functions but in this course we only cover a few but if you want more information about NumPy and all the functions it contains you can go to this link: https://numpy.org/doc/stable/user/index.html\n",
    "\n",
    "<img src='util/Numpy_funciones.png'>\n",
    "\n",
    "Being an external library, i.e. the functions are not built-in in Python, the first thing we must do to be able to use the NumPy functions is import NumPy and give it a name, for example *np*."
   ]
  },
  {
   "cell_type": "code",
   "execution_count": null,
   "metadata": {},
   "outputs": [],
   "source": [
    "import numpy as np # We import the NumPy library as np (we can give it another name if we want)"
   ]
  },
  {
   "cell_type": "markdown",
   "metadata": {},
   "source": [
    "From now on to use NumPy functions we must put np. followed by the name of the function.\n",
    "\n",
    "⚡ If in a cell we put np. and press the Tab key we will see the list of available functions of Numpy. As you can see, are lots of them."
   ]
  },
  {
   "cell_type": "code",
   "execution_count": null,
   "metadata": {},
   "outputs": [],
   "source": [
    "np."
   ]
  },
  {
   "cell_type": "markdown",
   "metadata": {},
   "source": [
    "### 1.1 Array\n",
    "Un concepto muy importante en NumPy es *array*, es como se llama a las estructuras de valores que utiliza NumPy. Un *array* es similar a una lista de valores pero en un formato que NumPy reconoce y que es compatible con las funciones de Numpy.\n",
    "\n",
    "Con la funcion ***array*** de NumPy podemos crear un array (vector o matriz) a partir de una lista de valores"
   ]
  },
  {
   "cell_type": "code",
   "execution_count": null,
   "metadata": {},
   "outputs": [],
   "source": [
    "myList = [2,5,10,20,6] # create a list of values\n",
    "myArray = np.array(myList) # create an array from the list of values"
   ]
  },
  {
   "cell_type": "code",
   "execution_count": null,
   "metadata": {},
   "outputs": [],
   "source": [
    "myListmyList"
   ]
  },
  {
   "cell_type": "code",
   "execution_count": null,
   "metadata": {},
   "outputs": [],
   "source": []
  },
  {
   "cell_type": "code",
   "execution_count": null,
   "metadata": {},
   "outputs": [],
   "source": [
    "myArray."
   ]
  },
  {
   "cell_type": "markdown",
   "metadata": {},
   "source": [
    "myArray is now a list of values that has the *array* format making it compatible with NumPy functions"
   ]
  },
  {
   "cell_type": "markdown",
   "metadata": {},
   "source": [
    "### 1.2 Basic functions of NumPy\n",
    "NumPy contains a number of basic functions that are very similar to some of Python's built-in functions, for example:\n",
    "\n",
    "To create sequences of values"
   ]
  },
  {
   "cell_type": "code",
   "execution_count": null,
   "metadata": {},
   "outputs": [],
   "source": [
    "myArray = np.arange(1,10,1)"
   ]
  },
  {
   "cell_type": "markdown",
   "metadata": {},
   "source": [
    "In the case of myArray, we have created a list of values of type *array* (that is, a vector or matrix) which is the proper format of NumPy"
   ]
  },
  {
   "cell_type": "code",
   "execution_count": null,
   "metadata": {},
   "outputs": [],
   "source": [
    "myArray"
   ]
  },
  {
   "cell_type": "markdown",
   "metadata": {},
   "source": [
    "To calculate the maximum value"
   ]
  },
  {
   "cell_type": "code",
   "execution_count": null,
   "metadata": {},
   "outputs": [],
   "source": [
    "np.max(myArray)"
   ]
  },
  {
   "cell_type": "code",
   "execution_count": null,
   "metadata": {},
   "outputs": [],
   "source": [
    "max(myArray)"
   ]
  },
  {
   "cell_type": "markdown",
   "metadata": {},
   "source": [
    "❗ As you can see, the two functions have the same name *max*, but we can distinguish the one that is from NumPy because we must put *np.* before the name of the function.\n",
    "\n",
    "To calculate the number of values or elements we have the function *size* which is also similar to the Python built-in function called *len*."
   ]
  },
  {
   "cell_type": "code",
   "execution_count": null,
   "metadata": {},
   "outputs": [],
   "source": [
    "np.size(myArray)"
   ]
  },
  {
   "cell_type": "code",
   "execution_count": null,
   "metadata": {},
   "outputs": [],
   "source": [
    "len(myArray)"
   ]
  },
  {
   "cell_type": "markdown",
   "metadata": {},
   "source": [
    "There are other very useful functions that come with Numpy that are not available as Python's built-in functions."
   ]
  },
  {
   "cell_type": "code",
   "execution_count": null,
   "metadata": {},
   "outputs": [],
   "source": [
    "np.sqrt(81) # to calculate the square root of a number"
   ]
  },
  {
   "cell_type": "code",
   "execution_count": null,
   "metadata": {},
   "outputs": [],
   "source": [
    "np.zeros(10) # to create an array of a certain size where all the elements are 0"
   ]
  },
  {
   "cell_type": "code",
   "execution_count": null,
   "metadata": {},
   "outputs": [],
   "source": [
    "np.mean([myArray]) # to calculate the mean value of a list or an array"
   ]
  },
  {
   "cell_type": "code",
   "execution_count": null,
   "metadata": {},
   "outputs": [],
   "source": [
    "np.random.random(10) # to create an array of a given size with random numbers"
   ]
  },
  {
   "cell_type": "markdown",
   "metadata": {},
   "source": [
    "⚡ **Exercise:** Now try to create a matrix of random values. The matrix must have 10 rows and 5 columns"
   ]
  },
  {
   "cell_type": "code",
   "execution_count": null,
   "metadata": {},
   "outputs": [],
   "source": []
  },
  {
   "cell_type": "markdown",
   "metadata": {},
   "source": [
    "⚡ **Exercise:** Now try to create a matrix of random values according to a normal distribution. The matrix must have 10 rows and 5 columns, and the values must have a mean value of 10 and a standard deviation of 3. Store it in a variables called *myMatrix*"
   ]
  },
  {
   "cell_type": "code",
   "execution_count": null,
   "metadata": {},
   "outputs": [],
   "source": []
  },
  {
   "cell_type": "markdown",
   "metadata": {},
   "source": [
    "⚡ **Exercise:** Now calculate the mean of *myMatrix*."
   ]
  },
  {
   "cell_type": "code",
   "execution_count": null,
   "metadata": {},
   "outputs": [],
   "source": []
  },
  {
   "cell_type": "markdown",
   "metadata": {},
   "source": [
    "## 2. Pandas\n",
    "Pandas is a Python library specialized in the management and analysis of data structures, in particular data tables. With Pandas you can:\n",
    "\n",
    "- Easily read and write files in CSV and Excel format.\n",
    "- Extract data from tables using indices or names for rows and columns.\n",
    "- Provides methods for reordering, splitting, and combining data sets.\n",
    "- Work with time series and easily handle dates.\n",
    "\n",
    "Pandas has many functions, in this course we only cover a few but if you want more information about Pandas and all the functions that it contains you can go to this link: https://pandas.pydata.org/docs/getting_started/intro_tutorials/index.html\n",
    "\n",
    "<img src='util/Pandas_funciones.png'>\n",
    "\n",
    "Since Pandas is an external library, the first thing we must do is to import Pandas and give it a name, for example *pd*."
   ]
  },
  {
   "cell_type": "code",
   "execution_count": null,
   "metadata": {},
   "outputs": [],
   "source": [
    "import pandas as pd"
   ]
  },
  {
   "cell_type": "markdown",
   "metadata": {},
   "source": [
    "From now on to use the Pandas functions we must put pd. followed by the name of the function.\n",
    "\n",
    "⚡ If in a cell we put ps. and press the Tab key we will see the list of available functions of Pandas."
   ]
  },
  {
   "cell_type": "code",
   "execution_count": null,
   "metadata": {},
   "outputs": [],
   "source": [
    "pd."
   ]
  },
  {
   "cell_type": "markdown",
   "metadata": {},
   "source": [
    "Si quereis saber mas sobre como crear y modificar dataframes: https://pandas.pydata.org/docs/user_guide/index.html\n",
    "\n",
    "### 2.1 2.1 Panda and Excel\n",
    "#### Read Excel files and save their data as Pandas dataframes \n",
    "One of the best features of Pandas is that you can read Excel files and extract their data as *dataframes*.\n",
    "\n",
    "A very important concept in Pandas is *dataframe*, it is what the value structures used by Pandas are called. A *dataframe* is the core of Pandas and we can think of a *dataframe* as an Excel table. We are going to create a *dataframe* with Pandas to better understand what it is and what it can be used for.\n",
    "\n",
    "With the function ***read_excel*** the Excel tables are converted to *dataframe* and thus we can use the functions of Pandas"
   ]
  },
  {
   "cell_type": "code",
   "execution_count": null,
   "metadata": {},
   "outputs": [],
   "source": [
    "data_df = pd.read_excel('Datos/data example 1.xlsx')"
   ]
  },
  {
   "cell_type": "markdown",
   "metadata": {},
   "source": [
    "Let's see the data stored in the dataframe *data_df*"
   ]
  },
  {
   "cell_type": "code",
   "execution_count": null,
   "metadata": {},
   "outputs": [],
   "source": [
    "data_df"
   ]
  },
  {
   "cell_type": "markdown",
   "metadata": {},
   "source": [
    "Like in Excel, the left column are the index values of each row and the first row is the name of each column.\n",
    "\n",
    "But we would like to have the *date* column as index, for this purpose we need to run the code below"
   ]
  },
  {
   "cell_type": "code",
   "execution_count": null,
   "metadata": {},
   "outputs": [],
   "source": [
    "data_df = pd.read_excel('Datos/data example 1.xlsx',index_col = 'date')\n",
    "data_df # to print the data on screen"
   ]
  },
  {
   "cell_type": "markdown",
   "metadata": {},
   "source": [
    "If we want to extract only part of the data, we can for example extract only data from a the column *rain*"
   ]
  },
  {
   "cell_type": "code",
   "execution_count": null,
   "metadata": {},
   "outputs": [],
   "source": [
    "data_df[\"rain\"]"
   ]
  },
  {
   "cell_type": "code",
   "execution_count": null,
   "metadata": {},
   "outputs": [],
   "source": [
    "data_df[\"rain\"]>10"
   ]
  },
  {
   "cell_type": "markdown",
   "metadata": {},
   "source": [
    "Let's extract the data from the dataframe *data_df* corresponding to days with rainfall higher than 10. "
   ]
  },
  {
   "cell_type": "code",
   "execution_count": null,
   "metadata": {},
   "outputs": [],
   "source": [
    "data_df[data_df[\"rain\"]>10]"
   ]
  },
  {
   "cell_type": "markdown",
   "metadata": {},
   "source": [
    "Now let's have a look at the index column of the dataframe"
   ]
  },
  {
   "cell_type": "code",
   "execution_count": null,
   "metadata": {},
   "outputs": [],
   "source": [
    "data_df.index"
   ]
  },
  {
   "cell_type": "markdown",
   "metadata": {},
   "source": [
    "Pay attention on the type of data stored in each column. See that the index column has a datetime format. This allows us to extract data for certain dates."
   ]
  },
  {
   "cell_type": "code",
   "execution_count": null,
   "metadata": {},
   "outputs": [],
   "source": [
    "data_df.index.year"
   ]
  },
  {
   "cell_type": "code",
   "execution_count": null,
   "metadata": {},
   "outputs": [],
   "source": [
    "data_df.index.year == 2010"
   ]
  },
  {
   "cell_type": "markdown",
   "metadata": {},
   "source": [
    "Let's extract only the data that corresponds only to the year 2018"
   ]
  },
  {
   "cell_type": "code",
   "execution_count": null,
   "metadata": {},
   "outputs": [],
   "source": []
  },
  {
   "cell_type": "code",
   "execution_count": null,
   "metadata": {},
   "outputs": [],
   "source": []
  },
  {
   "cell_type": "code",
   "execution_count": null,
   "metadata": {},
   "outputs": [],
   "source": [
    "data_df['2011-02-01':'2011-02-28'] # we can also extract data comprised between two dates"
   ]
  },
  {
   "cell_type": "code",
   "execution_count": null,
   "metadata": {},
   "outputs": [],
   "source": [
    "data_df['2011-02-01':'2011-02-28'][data_df['outflow']>4000] # and add another condition"
   ]
  },
  {
   "cell_type": "markdown",
   "metadata": {},
   "source": [
    "We can also save the extracted data into an Excel file by using the Pandas function *to_excel*"
   ]
  },
  {
   "cell_type": "code",
   "execution_count": null,
   "metadata": {},
   "outputs": [],
   "source": []
  },
  {
   "cell_type": "markdown",
   "metadata": {},
   "source": [
    "## 3. Matplotlib\n",
    "Matplotlib is a Python library specialized in creating two-dimensional plots. It lets you create and customize the most common types of charts:\n",
    "- Line graphs\n",
    "- Bar graphs\n",
    "- Dot plots\n",
    "- Box and whisker plots\n",
    "...\n",
    "\n",
    "In this course we are going to see how to create a simple graph and how to customize it with a few functions.\n",
    "\n",
    "<img src='util/Matplotlib_funciones.png'>\n",
    "\n",
    "But if you want to know more about the different types of graphs available with Matplotlib: (https://matplotlib.org/2.0.2/gallery.html). And what parameters we can use to modify them: https://matplotlib.org/stable/plot_types/index\n",
    "\n",
    "The first thing is to import the library. Specifically, we must import a Matplotlib module called `pyplot` and which we are going to call `plt`."
   ]
  },
  {
   "cell_type": "code",
   "execution_count": null,
   "metadata": {},
   "outputs": [],
   "source": [
    "import matplotlib.pyplot as plt"
   ]
  },
  {
   "cell_type": "markdown",
   "metadata": {},
   "source": [
    "Let's plot the rainfall data from the *data_df* dataframe using the function plot."
   ]
  },
  {
   "cell_type": "code",
   "execution_count": null,
   "metadata": {},
   "outputs": [],
   "source": [
    "plt.plot(data_df['rain'])"
   ]
  },
  {
   "cell_type": "markdown",
   "metadata": {},
   "source": [
    "We would like to change the size of the plot area to facilitate the visualization the plotted data"
   ]
  },
  {
   "cell_type": "code",
   "execution_count": null,
   "metadata": {},
   "outputs": [],
   "source": [
    "plt.figure(figsize=(15,3)) # to define the plot size\n",
    "plt.plot(data_df['rain'])"
   ]
  },
  {
   "cell_type": "markdown",
   "metadata": {},
   "source": [
    "Now we would like to change the color of the plotted line"
   ]
  },
  {
   "cell_type": "code",
   "execution_count": null,
   "metadata": {},
   "outputs": [],
   "source": [
    "plt.figure(figsize=(15,3))\n",
    "plt.plot(data_df['rain'], color = 'blue') # we ise the parameter color inside of the plot function"
   ]
  },
  {
   "cell_type": "markdown",
   "metadata": {},
   "source": [
    "Let's now indicate the units of the y axis, in this case mm/day"
   ]
  },
  {
   "cell_type": "code",
   "execution_count": null,
   "metadata": {},
   "outputs": [],
   "source": [
    "plt.figure(figsize=(15,3))\n",
    "plt.plot(data_df['rain'], color = 'blue')\n",
    "plt.ylabel('mm/day')"
   ]
  },
  {
   "cell_type": "markdown",
   "metadata": {},
   "source": [
    "Now we would like to plot only data for the year 2018"
   ]
  },
  {
   "cell_type": "code",
   "execution_count": null,
   "metadata": {},
   "outputs": [],
   "source": [
    "plt.figure(figsize=(15,3))\n",
    "plt.plot(data_df['2018-01-01':'2018-12-31']['rain'], color = 'blue')\n",
    "plt.ylabel('mm/day')"
   ]
  },
  {
   "cell_type": "markdown",
   "metadata": {},
   "source": [
    "What if we would like to represent as a bar plot instead of a line. For that purpose we can use the function *bar* instead of *plot*"
   ]
  },
  {
   "cell_type": "code",
   "execution_count": null,
   "metadata": {},
   "outputs": [],
   "source": [
    "plt.figure(figsize=(15,3))\n",
    "plt.bar(data_df['2018-01-01':'2018-12-31']['rain'], color = 'blue')\n",
    "plt.ylabel('mm/day')"
   ]
  },
  {
   "cell_type": "markdown",
   "metadata": {},
   "source": [
    "⚡ We get an error, do you know why? Hint: have a look at the help menu of the function *bar*"
   ]
  },
  {
   "cell_type": "code",
   "execution_count": null,
   "metadata": {},
   "outputs": [],
   "source": [
    "plt.figure(figsize=(15,3))\n",
    "plt.bar(data_df['2018-01-01':'2018-12-31'].index,data_df['2018-01-01':'2018-12-31']['rain'], color = 'lightblue')\n",
    "plt.ylabel('mm/day')"
   ]
  },
  {
   "cell_type": "markdown",
   "metadata": {},
   "source": [
    "### Subplots\n",
    "With this Matplotlib function we are going to be able to combine different data in the same plot area."
   ]
  },
  {
   "cell_type": "code",
   "execution_count": null,
   "metadata": {},
   "outputs": [],
   "source": [
    "fig, ax =plt.subplots(figsize=(15,6))\n",
    "ax.plot(data_df['2018-01-01':'2018-12-31']['outflow'], color = 'darkblue')\n",
    "ax.set(ylabel = 'm3/day')"
   ]
  },
  {
   "cell_type": "markdown",
   "metadata": {},
   "source": [
    "Now let's combine the rainfall and outflow graphs in the same plot area"
   ]
  },
  {
   "cell_type": "code",
   "execution_count": null,
   "metadata": {},
   "outputs": [],
   "source": [
    "fig, ax =plt.subplots(2,1,figsize=(15,6)) #\n",
    "\n",
    "ax[0].bar(data_df['2018-01-01':'2018-12-31'].index,data_df['2018-01-01':'2018-12-31']['rain'], color = 'blue')\n",
    "ax[0].set(ylabel='mm/day')\n",
    "\n",
    "ax[1].plot(data_df['2018-01-01':'2018-12-31']['outflow'], color = 'darkblue')\n",
    "ax[1].set(ylabel = 'm3/day')"
   ]
  },
  {
   "cell_type": "markdown",
   "metadata": {},
   "source": [
    "Or combine the rainfall and outflow data in the same graph"
   ]
  },
  {
   "cell_type": "code",
   "execution_count": null,
   "metadata": {},
   "outputs": [],
   "source": [
    "fig, ax =plt.subplots(figsize=(15,6)) #\n",
    "\n",
    "ax.bar(data_df['2018-01-01':'2018-12-31'].index,data_df['2018-01-01':'2018-12-31']['rain'], color = 'blue')\n",
    "ax.set(ylabel='mm/day')\n",
    "\n",
    "ax2 = ax.twinx()\n",
    "ax2.plot(data_df['2018-01-01':'2018-12-31']['outflow'], color = 'darkblue')\n",
    "ax2.set(ylabel = 'm3/day')"
   ]
  },
  {
   "cell_type": "code",
   "execution_count": null,
   "metadata": {},
   "outputs": [],
   "source": []
  }
 ],
 "metadata": {
  "kernelspec": {
   "display_name": "Python 3",
   "language": "python",
   "name": "python3"
  },
  "language_info": {
   "codemirror_mode": {
    "name": "ipython",
    "version": 3
   },
   "file_extension": ".py",
   "mimetype": "text/x-python",
   "name": "python",
   "nbconvert_exporter": "python",
   "pygments_lexer": "ipython3",
   "version": "3.8.8"
  },
  "varInspector": {
   "cols": {
    "lenName": 16,
    "lenType": 16,
    "lenVar": 40
   },
   "kernels_config": {
    "python": {
     "delete_cmd_postfix": "",
     "delete_cmd_prefix": "del ",
     "library": "var_list.py",
     "varRefreshCmd": "print(var_dic_list())"
    },
    "r": {
     "delete_cmd_postfix": ") ",
     "delete_cmd_prefix": "rm(",
     "library": "var_list.r",
     "varRefreshCmd": "cat(var_dic_list()) "
    }
   },
   "types_to_exclude": [
    "module",
    "function",
    "builtin_function_or_method",
    "instance",
    "_Feature"
   ],
   "window_display": false
  }
 },
 "nbformat": 4,
 "nbformat_minor": 4
}
