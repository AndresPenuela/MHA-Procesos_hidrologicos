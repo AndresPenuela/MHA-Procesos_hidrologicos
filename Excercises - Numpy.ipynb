{
 "cells": [
  {
   "cell_type": "markdown",
   "id": "4737dc25",
   "metadata": {},
   "source": [
    "# NumPy exercises\n",
    "Now that we have learned some basic concepts of the Numpy library, we are going to do a few exercises, to refresh ideas and to check that you have understood these concepts.\n",
    "\n",
    "### 1. Import the Numpy library giving it the name *np* or something else you like."
   ]
  },
  {
   "cell_type": "code",
   "execution_count": null,
   "id": "b804f6eb",
   "metadata": {},
   "outputs": [],
   "source": []
  },
  {
   "cell_type": "markdown",
   "id": "9c0e0c1f",
   "metadata": {},
   "source": [
    "## Creation of matrices/vectors (arrays)\n",
    "### 2. With the function *zeros* create a matrix with 1 row and 10 columns, with all values equal to 0."
   ]
  },
  {
   "cell_type": "code",
   "execution_count": null,
   "id": "089fcd3b",
   "metadata": {},
   "outputs": [],
   "source": []
  },
  {
   "cell_type": "markdown",
   "id": "8ea3a1ca",
   "metadata": {},
   "source": [
    "### 3. With the function *ones* create a matrix with 2 rows and 10 columns, with all values equal to 1."
   ]
  },
  {
   "cell_type": "code",
   "execution_count": null,
   "id": "29d420e7",
   "metadata": {},
   "outputs": [],
   "source": []
  },
  {
   "cell_type": "markdown",
   "id": "9e52242e",
   "metadata": {},
   "source": [
    "### 4. Create a matrix with 10 rows and 10 columns, with all values equal to 3."
   ]
  },
  {
   "cell_type": "code",
   "execution_count": null,
   "id": "6c7716db",
   "metadata": {},
   "outputs": [],
   "source": []
  },
  {
   "cell_type": "markdown",
   "id": "3a9b3b39",
   "metadata": {},
   "source": [
    "### 5. With the function *arange* create a vector of values between 1 and 100\n",
    "Be careful with the final value, the value 100 must be included in the sequence."
   ]
  },
  {
   "cell_type": "code",
   "execution_count": null,
   "id": "7c1cd685",
   "metadata": {},
   "outputs": [],
   "source": []
  },
  {
   "cell_type": "markdown",
   "id": "e8ab5abe",
   "metadata": {},
   "source": [
    "### 6. With the function *arange* create a vector of all **even** values between 1 and 100.\n",
    "For this you will have to put 2 as the initial value and as step 2."
   ]
  },
  {
   "cell_type": "code",
   "execution_count": null,
   "id": "40a9c853",
   "metadata": {},
   "outputs": [],
   "source": []
  },
  {
   "cell_type": "markdown",
   "id": "776feb03",
   "metadata": {},
   "source": [
    "### 7. Create a variable named *impar* that contains a vector with odd values between 1 and 50."
   ]
  },
  {
   "cell_type": "code",
   "execution_count": null,
   "id": "227c30ff",
   "metadata": {},
   "outputs": [],
   "source": []
  },
  {
   "cell_type": "markdown",
   "id": "e22f4d66",
   "metadata": {},
   "source": [
    "## Modification of matrices/vectors (arrays)\n",
    "### 8. With the *reshape* function transform *impar* into a 5x5 matrix (5 rows and 5 columns) and save it as a variable called *matriz_impar*. Show the matrix on the screen to check that you have done it correctly."
   ]
  },
  {
   "cell_type": "code",
   "execution_count": null,
   "id": "15c1eb90",
   "metadata": {},
   "outputs": [],
   "source": []
  },
  {
   "cell_type": "markdown",
   "id": "19d7f013",
   "metadata": {},
   "source": [
    "### 9. From among the values contained in *matriz_impar* extracts only the value found in the second row and third column\n",
    "(remember that in Python the 1st row/column is actually row/column 0)"
   ]
  },
  {
   "cell_type": "code",
   "execution_count": null,
   "id": "faf3db11",
   "metadata": {},
   "outputs": [],
   "source": []
  },
  {
   "cell_type": "markdown",
   "id": "a9a73046",
   "metadata": {},
   "source": [
    "### 10. Now make the value in the second row and third column of *matriz_impar* equal to 0. Display the matrix on the screen to check that you've got it right."
   ]
  },
  {
   "cell_type": "code",
   "execution_count": null,
   "id": "26f95ebe",
   "metadata": {},
   "outputs": [],
   "source": []
  },
  {
   "cell_type": "markdown",
   "id": "c69855e5",
   "metadata": {},
   "source": [
    "### 11. Extracts the values between the first and the fourth row of the last column"
   ]
  },
  {
   "cell_type": "code",
   "execution_count": null,
   "id": "82c592b3",
   "metadata": {},
   "outputs": [],
   "source": []
  },
  {
   "cell_type": "markdown",
   "id": "45125cc6",
   "metadata": {},
   "source": [
    "### 12. Make the values between the first and fourth rows and between the first and fourth columns of *matriz_impar* equal 0. Display the matrix on the screen to check that you have done it correctly."
   ]
  },
  {
   "cell_type": "code",
   "execution_count": null,
   "id": "7eed36d1",
   "metadata": {},
   "outputs": [],
   "source": []
  },
  {
   "cell_type": "code",
   "execution_count": null,
   "id": "ab123448",
   "metadata": {},
   "outputs": [],
   "source": []
  }
 ],
 "metadata": {
  "kernelspec": {
   "display_name": "Python 3",
   "language": "python",
   "name": "python3"
  },
  "language_info": {
   "codemirror_mode": {
    "name": "ipython",
    "version": 3
   },
   "file_extension": ".py",
   "mimetype": "text/x-python",
   "name": "python",
   "nbconvert_exporter": "python",
   "pygments_lexer": "ipython3",
   "version": "3.8.8"
  }
 },
 "nbformat": 4,
 "nbformat_minor": 5
}
