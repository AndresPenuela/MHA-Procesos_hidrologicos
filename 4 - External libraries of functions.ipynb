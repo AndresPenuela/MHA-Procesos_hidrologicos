{
 "cells": [
  {
   "cell_type": "markdown",
   "metadata": {},
   "source": [
    "# External libraries of functions\n",
    "External libraries contain functions that perform specific tasks such as statistical analysis or data visualization. These libraries complement the functions of Python (built-in functions) and to be able to use them **we need import them** into our Notebook. We are going to look only at some of the most popular Python libraries like NumPy and Pandas. The libraries that we will see come with Anaconda so we will not need to install them. These are some of the external libraries that Anaconda has installed by default.\n",
    "\n",
    "<img src='util/Anaconda_librerias.png'>\n",
    "\n",
    "## 1. NumPy\n",
    "NumPy is a library of mathematical functions that is very popular for performing mathematical operations on vectors and matrices. NumPy has many functions but in this course we only cover a few but if you want more information about NumPy and all the functions it contains you can go to this link: https://numpy.org/doc/stable/user/index.html\n",
    "\n",
    "<img src='util/Numpy_funciones.png'>\n",
    "\n",
    "Being an external library, i.e. the functions are not built-in in Python, the first thing we must do to be able to use the NumPy functions is import NumPy and give it a name, for example *np*."
   ]
  },
  {
   "cell_type": "code",
   "execution_count": 1,
   "metadata": {},
   "outputs": [],
   "source": [
    "import numpy as np # We import the NumPy library as np (we can give it another name if we want)"
   ]
  },
  {
   "cell_type": "markdown",
   "metadata": {},
   "source": [
    "From now on to use NumPy functions we must put np. followed by the name of the function.\n",
    "\n",
    "⚡ If in a cell we put np. and press the Tab key we will see the list of available functions of Numpy. As you can see, are lots of them."
   ]
  },
  {
   "cell_type": "code",
   "execution_count": null,
   "metadata": {},
   "outputs": [],
   "source": [
    "np."
   ]
  },
  {
   "cell_type": "markdown",
   "metadata": {},
   "source": [
    "### 1.1 Array\n",
    "Un concepto muy importante en NumPy es *array*, es como se llama a las estructuras de valores que utiliza NumPy. Un *array* es similar a una lista de valores pero en un formato que NumPy reconoce y que es compatible con las funciones de Numpy.\n",
    "\n",
    "Con la funcion ***array*** de NumPy podemos crear un array (vector o matriz) a partir de una lista de valores"
   ]
  },
  {
   "cell_type": "code",
   "execution_count": 2,
   "metadata": {},
   "outputs": [],
   "source": [
    "myList = [2,5,10,20,6] # create a list of values\n",
    "myArray = np.array(myList) # create an array from the list of values"
   ]
  },
  {
   "cell_type": "code",
   "execution_count": 3,
   "metadata": {},
   "outputs": [
    {
     "data": {
      "text/plain": [
       "[2, 5, 10, 20, 6]"
      ]
     },
     "execution_count": 3,
     "metadata": {},
     "output_type": "execute_result"
    }
   ],
   "source": [
    "myList"
   ]
  },
  {
   "cell_type": "code",
   "execution_count": 4,
   "metadata": {},
   "outputs": [
    {
     "data": {
      "text/plain": [
       "array([ 2,  5, 10, 20,  6])"
      ]
     },
     "execution_count": 4,
     "metadata": {},
     "output_type": "execute_result"
    }
   ],
   "source": [
    "myArray"
   ]
  },
  {
   "cell_type": "code",
   "execution_count": 9,
   "metadata": {},
   "outputs": [
    {
     "data": {
      "text/plain": [
       "20"
      ]
     },
     "execution_count": 9,
     "metadata": {},
     "output_type": "execute_result"
    }
   ],
   "source": [
    "myArray.max()"
   ]
  },
  {
   "cell_type": "code",
   "execution_count": 13,
   "metadata": {},
   "outputs": [
    {
     "data": {
      "text/plain": [
       "2"
      ]
     },
     "execution_count": 13,
     "metadata": {},
     "output_type": "execute_result"
    }
   ],
   "source": [
    "np.min(myList)"
   ]
  },
  {
   "cell_type": "code",
   "execution_count": 14,
   "metadata": {},
   "outputs": [
    {
     "ename": "AttributeError",
     "evalue": "'list' object has no attribute 'max'",
     "output_type": "error",
     "traceback": [
      "\u001b[1;31m---------------------------------------------------------------------------\u001b[0m",
      "\u001b[1;31mAttributeError\u001b[0m                            Traceback (most recent call last)",
      "Input \u001b[1;32mIn [14]\u001b[0m, in \u001b[0;36m<cell line: 1>\u001b[1;34m()\u001b[0m\n\u001b[1;32m----> 1\u001b[0m \u001b[43mmyList\u001b[49m\u001b[38;5;241;43m.\u001b[39;49m\u001b[43mmax\u001b[49m()\n",
      "\u001b[1;31mAttributeError\u001b[0m: 'list' object has no attribute 'max'"
     ]
    }
   ],
   "source": [
    "myList.max()"
   ]
  },
  {
   "cell_type": "markdown",
   "metadata": {},
   "source": [
    "myArray is now a list of values that has the *array* format making it compatible with NumPy functions"
   ]
  },
  {
   "cell_type": "markdown",
   "metadata": {},
   "source": [
    "### 1.2 Basic functions of NumPy\n",
    "NumPy contains a number of basic functions that are very similar to some of Python's built-in functions, for example:\n",
    "\n",
    "To create sequences of values"
   ]
  },
  {
   "cell_type": "code",
   "execution_count": 17,
   "metadata": {},
   "outputs": [],
   "source": [
    "myArray = np.arange(1,10,2)"
   ]
  },
  {
   "cell_type": "markdown",
   "metadata": {},
   "source": [
    "In the case of myArray, we have created a list of values of type *array* (that is, a vector or matrix) which is the proper format of NumPy"
   ]
  },
  {
   "cell_type": "code",
   "execution_count": 18,
   "metadata": {},
   "outputs": [
    {
     "data": {
      "text/plain": [
       "array([1, 3, 5, 7, 9])"
      ]
     },
     "execution_count": 18,
     "metadata": {},
     "output_type": "execute_result"
    }
   ],
   "source": [
    "myArray"
   ]
  },
  {
   "cell_type": "markdown",
   "metadata": {},
   "source": [
    "To calculate the maximum value"
   ]
  },
  {
   "cell_type": "code",
   "execution_count": null,
   "metadata": {},
   "outputs": [],
   "source": [
    "np.max(myArray)"
   ]
  },
  {
   "cell_type": "code",
   "execution_count": null,
   "metadata": {},
   "outputs": [],
   "source": [
    "max(myArray)"
   ]
  },
  {
   "cell_type": "markdown",
   "metadata": {},
   "source": [
    "❗ As you can see, the two functions have the same name *max*, but we can distinguish the one that is from NumPy because we must put *np.* before the name of the function.\n",
    "\n",
    "To calculate the number of values or elements we have the function *size* which is also similar to the Python built-in function called *len*."
   ]
  },
  {
   "cell_type": "code",
   "execution_count": 19,
   "metadata": {},
   "outputs": [
    {
     "data": {
      "text/plain": [
       "5"
      ]
     },
     "execution_count": 19,
     "metadata": {},
     "output_type": "execute_result"
    }
   ],
   "source": [
    "np.size(myArray)"
   ]
  },
  {
   "cell_type": "code",
   "execution_count": 20,
   "metadata": {},
   "outputs": [
    {
     "data": {
      "text/plain": [
       "5"
      ]
     },
     "execution_count": 20,
     "metadata": {},
     "output_type": "execute_result"
    }
   ],
   "source": [
    "len(myArray)"
   ]
  },
  {
   "cell_type": "markdown",
   "metadata": {},
   "source": [
    "There are other very useful functions that come with Numpy that are not available as Python's built-in functions."
   ]
  },
  {
   "cell_type": "code",
   "execution_count": 21,
   "metadata": {},
   "outputs": [
    {
     "data": {
      "text/plain": [
       "9.0"
      ]
     },
     "execution_count": 21,
     "metadata": {},
     "output_type": "execute_result"
    }
   ],
   "source": [
    "np.sqrt(81) # to calculate the square root of a number"
   ]
  },
  {
   "cell_type": "code",
   "execution_count": 22,
   "metadata": {},
   "outputs": [
    {
     "data": {
      "text/plain": [
       "array([0., 0., 0., 0., 0., 0., 0., 0., 0., 0.])"
      ]
     },
     "execution_count": 22,
     "metadata": {},
     "output_type": "execute_result"
    }
   ],
   "source": [
    "np.zeros(10) # to create an array of a certain size where all the elements are 0"
   ]
  },
  {
   "cell_type": "code",
   "execution_count": 23,
   "metadata": {},
   "outputs": [
    {
     "data": {
      "text/plain": [
       "5.0"
      ]
     },
     "execution_count": 23,
     "metadata": {},
     "output_type": "execute_result"
    }
   ],
   "source": [
    "np.mean([myArray]) # to calculate the mean value of a list or an array"
   ]
  },
  {
   "cell_type": "code",
   "execution_count": 24,
   "metadata": {},
   "outputs": [
    {
     "data": {
      "text/plain": [
       "array([0.79432422, 0.33902051, 0.50771416, 0.63310165, 0.2853219 ,\n",
       "       0.10324813, 0.68387465, 0.87589954, 0.47085291, 0.64570458])"
      ]
     },
     "execution_count": 24,
     "metadata": {},
     "output_type": "execute_result"
    }
   ],
   "source": [
    "np.random.random(10) # to create an array of a given size with random numbers"
   ]
  },
  {
   "cell_type": "markdown",
   "metadata": {},
   "source": [
    "⚡ **Exercise:** Now try to create a matrix of random values. The matrix must have 10 rows and 5 columns"
   ]
  },
  {
   "cell_type": "code",
   "execution_count": 25,
   "metadata": {},
   "outputs": [
    {
     "data": {
      "text/plain": [
       "array([[0.69623161, 0.35323586, 0.77937664, 0.64210995, 0.09248256],\n",
       "       [0.370638  , 0.94888566, 0.36370564, 0.48581025, 0.08493794],\n",
       "       [0.26092798, 0.65915618, 0.85281482, 0.45573224, 0.40396163],\n",
       "       [0.99055124, 0.81847249, 0.0264626 , 0.48078815, 0.48370613],\n",
       "       [0.05949233, 0.69660667, 0.3428131 , 0.00312641, 0.27795897],\n",
       "       [0.28197823, 0.10344799, 0.8134391 , 0.02552938, 0.71922817],\n",
       "       [0.66578537, 0.51259431, 0.51079199, 0.04663042, 0.30700405],\n",
       "       [0.53043352, 0.31641928, 0.63573459, 0.0859711 , 0.28323157],\n",
       "       [0.89115732, 0.36152374, 0.82099133, 0.85120136, 0.14930778],\n",
       "       [0.80106019, 0.09216937, 0.92961272, 0.98917003, 0.57301261]])"
      ]
     },
     "execution_count": 25,
     "metadata": {},
     "output_type": "execute_result"
    }
   ],
   "source": [
    "np.random.random([10,5])"
   ]
  },
  {
   "cell_type": "markdown",
   "metadata": {},
   "source": [
    "⚡ **Exercise:** Now try to create a matrix of random values according to a normal distribution. The matrix must have 10 rows and 5 columns, and the values must have a mean value of 10 and a standard deviation of 3. Store it in a variables called *myMatrix*"
   ]
  },
  {
   "cell_type": "code",
   "execution_count": 34,
   "metadata": {},
   "outputs": [],
   "source": [
    "myMatrix = np.random.normal(loc = 10, scale = 3, size = [10,5])"
   ]
  },
  {
   "cell_type": "markdown",
   "metadata": {},
   "source": [
    "⚡ **Exercise:** Now calculate the mean of *myMatrix*."
   ]
  },
  {
   "cell_type": "code",
   "execution_count": 35,
   "metadata": {},
   "outputs": [
    {
     "data": {
      "text/plain": [
       "9.209872362015812"
      ]
     },
     "execution_count": 35,
     "metadata": {},
     "output_type": "execute_result"
    }
   ],
   "source": [
    "np.mean(myMatrix)"
   ]
  },
  {
   "cell_type": "markdown",
   "metadata": {},
   "source": [
    "## 2. Pandas\n",
    "Pandas is a Python library specialized in the management and analysis of data structures, in particular data tables. With Pandas you can:\n",
    "\n",
    "- Easily read and write files in CSV and Excel format.\n",
    "- Extract data from tables using indices or names for rows and columns.\n",
    "- Provides methods for reordering, splitting, and combining data sets.\n",
    "- Work with time series and easily handle dates.\n",
    "\n",
    "Pandas has many functions, in this course we only cover a few but if you want more information about Pandas and all the functions that it contains you can go to this link: https://pandas.pydata.org/docs/getting_started/intro_tutorials/index.html\n",
    "\n",
    "<img src='util/Pandas_funciones.png'>\n",
    "\n",
    "Since Pandas is an external library, the first thing we must do is to import Pandas and give it a name, for example *pd*."
   ]
  },
  {
   "cell_type": "code",
   "execution_count": 36,
   "metadata": {},
   "outputs": [],
   "source": [
    "import pandas as pd"
   ]
  },
  {
   "cell_type": "markdown",
   "metadata": {},
   "source": [
    "From now on to use the Pandas functions we must put pd. followed by the name of the function.\n",
    "\n",
    "⚡ If in a cell we put ps. and press the Tab key we will see the list of available functions of Pandas."
   ]
  },
  {
   "cell_type": "code",
   "execution_count": null,
   "metadata": {},
   "outputs": [],
   "source": [
    "pd."
   ]
  },
  {
   "cell_type": "markdown",
   "metadata": {},
   "source": [
    "Si quereis saber mas sobre como crear y modificar dataframes: https://pandas.pydata.org/docs/user_guide/index.html\n",
    "\n",
    "### 2.1 2.1 Panda and Excel\n",
    "#### Read Excel files and save their data as Pandas dataframes \n",
    "One of the best features of Pandas is that you can read Excel files and extract their data as *dataframes*.\n",
    "\n",
    "A very important concept in Pandas is *dataframe*, it is what the value structures used by Pandas are called. A *dataframe* is the core of Pandas and we can think of a *dataframe* as an Excel table. We are going to create a *dataframe* with Pandas to better understand what it is and what it can be used for.\n",
    "\n",
    "With the function ***read_excel*** the Excel tables are converted to *dataframe* and thus we can use the functions of Pandas"
   ]
  },
  {
   "cell_type": "code",
   "execution_count": 37,
   "metadata": {},
   "outputs": [],
   "source": [
    "data_df = pd.read_excel('Datos/data example 1.xlsx')"
   ]
  },
  {
   "cell_type": "markdown",
   "metadata": {},
   "source": [
    "Let's see the data stored in the dataframe *data_df*"
   ]
  },
  {
   "cell_type": "code",
   "execution_count": 38,
   "metadata": {},
   "outputs": [
    {
     "data": {
      "text/html": [
       "<div>\n",
       "<style scoped>\n",
       "    .dataframe tbody tr th:only-of-type {\n",
       "        vertical-align: middle;\n",
       "    }\n",
       "\n",
       "    .dataframe tbody tr th {\n",
       "        vertical-align: top;\n",
       "    }\n",
       "\n",
       "    .dataframe thead th {\n",
       "        text-align: right;\n",
       "    }\n",
       "</style>\n",
       "<table border=\"1\" class=\"dataframe\">\n",
       "  <thead>\n",
       "    <tr style=\"text-align: right;\">\n",
       "      <th></th>\n",
       "      <th>date</th>\n",
       "      <th>rain</th>\n",
       "      <th>outflow</th>\n",
       "    </tr>\n",
       "  </thead>\n",
       "  <tbody>\n",
       "    <tr>\n",
       "      <th>0</th>\n",
       "      <td>2010-01-01</td>\n",
       "      <td>1.270</td>\n",
       "      <td>6531.84</td>\n",
       "    </tr>\n",
       "    <tr>\n",
       "      <th>1</th>\n",
       "      <td>2010-01-02</td>\n",
       "      <td>2.032</td>\n",
       "      <td>6531.84</td>\n",
       "    </tr>\n",
       "    <tr>\n",
       "      <th>2</th>\n",
       "      <td>2010-01-03</td>\n",
       "      <td>25.654</td>\n",
       "      <td>74995.20</td>\n",
       "    </tr>\n",
       "    <tr>\n",
       "      <th>3</th>\n",
       "      <td>2010-01-04</td>\n",
       "      <td>13.462</td>\n",
       "      <td>33868.80</td>\n",
       "    </tr>\n",
       "    <tr>\n",
       "      <th>4</th>\n",
       "      <td>2010-01-05</td>\n",
       "      <td>24.638</td>\n",
       "      <td>101606.40</td>\n",
       "    </tr>\n",
       "    <tr>\n",
       "      <th>...</th>\n",
       "      <td>...</td>\n",
       "      <td>...</td>\n",
       "      <td>...</td>\n",
       "    </tr>\n",
       "    <tr>\n",
       "      <th>3648</th>\n",
       "      <td>2019-12-28</td>\n",
       "      <td>0.000</td>\n",
       "      <td>9918.72</td>\n",
       "    </tr>\n",
       "    <tr>\n",
       "      <th>3649</th>\n",
       "      <td>2019-12-29</td>\n",
       "      <td>0.000</td>\n",
       "      <td>8951.04</td>\n",
       "    </tr>\n",
       "    <tr>\n",
       "      <th>3650</th>\n",
       "      <td>2019-12-30</td>\n",
       "      <td>0.000</td>\n",
       "      <td>8467.20</td>\n",
       "    </tr>\n",
       "    <tr>\n",
       "      <th>3651</th>\n",
       "      <td>2019-12-31</td>\n",
       "      <td>0.000</td>\n",
       "      <td>8225.28</td>\n",
       "    </tr>\n",
       "    <tr>\n",
       "      <th>3652</th>\n",
       "      <td>2020-01-01</td>\n",
       "      <td>0.000</td>\n",
       "      <td>8225.28</td>\n",
       "    </tr>\n",
       "  </tbody>\n",
       "</table>\n",
       "<p>3653 rows × 3 columns</p>\n",
       "</div>"
      ],
      "text/plain": [
       "           date    rain    outflow\n",
       "0    2010-01-01   1.270    6531.84\n",
       "1    2010-01-02   2.032    6531.84\n",
       "2    2010-01-03  25.654   74995.20\n",
       "3    2010-01-04  13.462   33868.80\n",
       "4    2010-01-05  24.638  101606.40\n",
       "...         ...     ...        ...\n",
       "3648 2019-12-28   0.000    9918.72\n",
       "3649 2019-12-29   0.000    8951.04\n",
       "3650 2019-12-30   0.000    8467.20\n",
       "3651 2019-12-31   0.000    8225.28\n",
       "3652 2020-01-01   0.000    8225.28\n",
       "\n",
       "[3653 rows x 3 columns]"
      ]
     },
     "execution_count": 38,
     "metadata": {},
     "output_type": "execute_result"
    }
   ],
   "source": [
    "data_df"
   ]
  },
  {
   "cell_type": "markdown",
   "metadata": {},
   "source": [
    "Like in Excel, the left column are the index values of each row and the first row is the name of each column.\n",
    "\n",
    "But we would like to have the *date* column as index, for this purpose we need to run the code below"
   ]
  },
  {
   "cell_type": "code",
   "execution_count": 39,
   "metadata": {},
   "outputs": [
    {
     "data": {
      "text/html": [
       "<div>\n",
       "<style scoped>\n",
       "    .dataframe tbody tr th:only-of-type {\n",
       "        vertical-align: middle;\n",
       "    }\n",
       "\n",
       "    .dataframe tbody tr th {\n",
       "        vertical-align: top;\n",
       "    }\n",
       "\n",
       "    .dataframe thead th {\n",
       "        text-align: right;\n",
       "    }\n",
       "</style>\n",
       "<table border=\"1\" class=\"dataframe\">\n",
       "  <thead>\n",
       "    <tr style=\"text-align: right;\">\n",
       "      <th></th>\n",
       "      <th>rain</th>\n",
       "      <th>outflow</th>\n",
       "    </tr>\n",
       "    <tr>\n",
       "      <th>date</th>\n",
       "      <th></th>\n",
       "      <th></th>\n",
       "    </tr>\n",
       "  </thead>\n",
       "  <tbody>\n",
       "    <tr>\n",
       "      <th>2010-01-01</th>\n",
       "      <td>1.270</td>\n",
       "      <td>6531.84</td>\n",
       "    </tr>\n",
       "    <tr>\n",
       "      <th>2010-01-02</th>\n",
       "      <td>2.032</td>\n",
       "      <td>6531.84</td>\n",
       "    </tr>\n",
       "    <tr>\n",
       "      <th>2010-01-03</th>\n",
       "      <td>25.654</td>\n",
       "      <td>74995.20</td>\n",
       "    </tr>\n",
       "    <tr>\n",
       "      <th>2010-01-04</th>\n",
       "      <td>13.462</td>\n",
       "      <td>33868.80</td>\n",
       "    </tr>\n",
       "    <tr>\n",
       "      <th>2010-01-05</th>\n",
       "      <td>24.638</td>\n",
       "      <td>101606.40</td>\n",
       "    </tr>\n",
       "    <tr>\n",
       "      <th>...</th>\n",
       "      <td>...</td>\n",
       "      <td>...</td>\n",
       "    </tr>\n",
       "    <tr>\n",
       "      <th>2019-12-28</th>\n",
       "      <td>0.000</td>\n",
       "      <td>9918.72</td>\n",
       "    </tr>\n",
       "    <tr>\n",
       "      <th>2019-12-29</th>\n",
       "      <td>0.000</td>\n",
       "      <td>8951.04</td>\n",
       "    </tr>\n",
       "    <tr>\n",
       "      <th>2019-12-30</th>\n",
       "      <td>0.000</td>\n",
       "      <td>8467.20</td>\n",
       "    </tr>\n",
       "    <tr>\n",
       "      <th>2019-12-31</th>\n",
       "      <td>0.000</td>\n",
       "      <td>8225.28</td>\n",
       "    </tr>\n",
       "    <tr>\n",
       "      <th>2020-01-01</th>\n",
       "      <td>0.000</td>\n",
       "      <td>8225.28</td>\n",
       "    </tr>\n",
       "  </tbody>\n",
       "</table>\n",
       "<p>3653 rows × 2 columns</p>\n",
       "</div>"
      ],
      "text/plain": [
       "              rain    outflow\n",
       "date                         \n",
       "2010-01-01   1.270    6531.84\n",
       "2010-01-02   2.032    6531.84\n",
       "2010-01-03  25.654   74995.20\n",
       "2010-01-04  13.462   33868.80\n",
       "2010-01-05  24.638  101606.40\n",
       "...            ...        ...\n",
       "2019-12-28   0.000    9918.72\n",
       "2019-12-29   0.000    8951.04\n",
       "2019-12-30   0.000    8467.20\n",
       "2019-12-31   0.000    8225.28\n",
       "2020-01-01   0.000    8225.28\n",
       "\n",
       "[3653 rows x 2 columns]"
      ]
     },
     "execution_count": 39,
     "metadata": {},
     "output_type": "execute_result"
    }
   ],
   "source": [
    "data_df = pd.read_excel('Datos/data example 1.xlsx',index_col = 'date')\n",
    "data_df # to print the data on screen"
   ]
  },
  {
   "cell_type": "markdown",
   "metadata": {},
   "source": [
    "If we want to extract only part of the data, we can for example extract only data from a the column *rain*"
   ]
  },
  {
   "cell_type": "code",
   "execution_count": 40,
   "metadata": {},
   "outputs": [
    {
     "data": {
      "text/plain": [
       "date\n",
       "2010-01-01     1.270\n",
       "2010-01-02     2.032\n",
       "2010-01-03    25.654\n",
       "2010-01-04    13.462\n",
       "2010-01-05    24.638\n",
       "               ...  \n",
       "2019-12-28     0.000\n",
       "2019-12-29     0.000\n",
       "2019-12-30     0.000\n",
       "2019-12-31     0.000\n",
       "2020-01-01     0.000\n",
       "Name: rain, Length: 3653, dtype: float64"
      ]
     },
     "execution_count": 40,
     "metadata": {},
     "output_type": "execute_result"
    }
   ],
   "source": [
    "data_df[\"rain\"]"
   ]
  },
  {
   "cell_type": "code",
   "execution_count": 41,
   "metadata": {},
   "outputs": [
    {
     "data": {
      "text/plain": [
       "date\n",
       "2010-01-01    False\n",
       "2010-01-02    False\n",
       "2010-01-03     True\n",
       "2010-01-04     True\n",
       "2010-01-05     True\n",
       "              ...  \n",
       "2019-12-28    False\n",
       "2019-12-29    False\n",
       "2019-12-30    False\n",
       "2019-12-31    False\n",
       "2020-01-01    False\n",
       "Name: rain, Length: 3653, dtype: bool"
      ]
     },
     "execution_count": 41,
     "metadata": {},
     "output_type": "execute_result"
    }
   ],
   "source": [
    "data_df[\"rain\"]>10"
   ]
  },
  {
   "cell_type": "markdown",
   "metadata": {},
   "source": [
    "Let's extract the data from the dataframe *data_df* corresponding to days with rainfall higher than 10. "
   ]
  },
  {
   "cell_type": "code",
   "execution_count": 44,
   "metadata": {},
   "outputs": [],
   "source": [
    "data_rain_10 = data_df[data_df[\"rain\"]>100]"
   ]
  },
  {
   "cell_type": "code",
   "execution_count": 45,
   "metadata": {},
   "outputs": [
    {
     "data": {
      "text/html": [
       "<div>\n",
       "<style scoped>\n",
       "    .dataframe tbody tr th:only-of-type {\n",
       "        vertical-align: middle;\n",
       "    }\n",
       "\n",
       "    .dataframe tbody tr th {\n",
       "        vertical-align: top;\n",
       "    }\n",
       "\n",
       "    .dataframe thead th {\n",
       "        text-align: right;\n",
       "    }\n",
       "</style>\n",
       "<table border=\"1\" class=\"dataframe\">\n",
       "  <thead>\n",
       "    <tr style=\"text-align: right;\">\n",
       "      <th></th>\n",
       "      <th>rain</th>\n",
       "      <th>outflow</th>\n",
       "    </tr>\n",
       "    <tr>\n",
       "      <th>date</th>\n",
       "      <th></th>\n",
       "      <th></th>\n",
       "    </tr>\n",
       "  </thead>\n",
       "  <tbody>\n",
       "    <tr>\n",
       "      <th>2013-09-14</th>\n",
       "      <td>101.346</td>\n",
       "      <td>374976.0</td>\n",
       "    </tr>\n",
       "    <tr>\n",
       "      <th>2019-07-12</th>\n",
       "      <td>100.584</td>\n",
       "      <td>437875.2</td>\n",
       "    </tr>\n",
       "  </tbody>\n",
       "</table>\n",
       "</div>"
      ],
      "text/plain": [
       "               rain   outflow\n",
       "date                         \n",
       "2013-09-14  101.346  374976.0\n",
       "2019-07-12  100.584  437875.2"
      ]
     },
     "execution_count": 45,
     "metadata": {},
     "output_type": "execute_result"
    }
   ],
   "source": [
    "data_rain_10"
   ]
  },
  {
   "cell_type": "markdown",
   "metadata": {},
   "source": [
    "Now let's have a look at the index column of the dataframe"
   ]
  },
  {
   "cell_type": "code",
   "execution_count": 46,
   "metadata": {},
   "outputs": [
    {
     "data": {
      "text/plain": [
       "DatetimeIndex(['2010-01-01', '2010-01-02', '2010-01-03', '2010-01-04',\n",
       "               '2010-01-05', '2010-01-06', '2010-01-07', '2010-01-08',\n",
       "               '2010-01-09', '2010-01-10',\n",
       "               ...\n",
       "               '2019-12-23', '2019-12-24', '2019-12-25', '2019-12-26',\n",
       "               '2019-12-27', '2019-12-28', '2019-12-29', '2019-12-30',\n",
       "               '2019-12-31', '2020-01-01'],\n",
       "              dtype='datetime64[ns]', name='date', length=3653, freq=None)"
      ]
     },
     "execution_count": 46,
     "metadata": {},
     "output_type": "execute_result"
    }
   ],
   "source": [
    "data_df.index"
   ]
  },
  {
   "cell_type": "markdown",
   "metadata": {},
   "source": [
    "Pay attention on the type of data stored in each column. See that the index column has a datetime format. This allows us to extract data for certain dates."
   ]
  },
  {
   "cell_type": "code",
   "execution_count": 49,
   "metadata": {},
   "outputs": [
    {
     "data": {
      "text/plain": [
       "Int64Index([ 1,  2,  3,  4,  5,  6,  7,  8,  9, 10,\n",
       "            ...\n",
       "            23, 24, 25, 26, 27, 28, 29, 30, 31,  1],\n",
       "           dtype='int64', name='date', length=3653)"
      ]
     },
     "execution_count": 49,
     "metadata": {},
     "output_type": "execute_result"
    }
   ],
   "source": [
    "data_df.index.day"
   ]
  },
  {
   "cell_type": "code",
   "execution_count": 50,
   "metadata": {},
   "outputs": [
    {
     "data": {
      "text/plain": [
       "array([ True,  True,  True, ..., False, False, False])"
      ]
     },
     "execution_count": 50,
     "metadata": {},
     "output_type": "execute_result"
    }
   ],
   "source": [
    "data_df.index.year == 2010"
   ]
  },
  {
   "cell_type": "markdown",
   "metadata": {},
   "source": [
    "Let's extract only the data that corresponds only to the year 2018"
   ]
  },
  {
   "cell_type": "code",
   "execution_count": 56,
   "metadata": {},
   "outputs": [],
   "source": [
    "data_df_Jan = data_df[data_df.index.month == 1]"
   ]
  },
  {
   "cell_type": "code",
   "execution_count": 57,
   "metadata": {},
   "outputs": [
    {
     "data": {
      "text/html": [
       "<div>\n",
       "<style scoped>\n",
       "    .dataframe tbody tr th:only-of-type {\n",
       "        vertical-align: middle;\n",
       "    }\n",
       "\n",
       "    .dataframe tbody tr th {\n",
       "        vertical-align: top;\n",
       "    }\n",
       "\n",
       "    .dataframe thead th {\n",
       "        text-align: right;\n",
       "    }\n",
       "</style>\n",
       "<table border=\"1\" class=\"dataframe\">\n",
       "  <thead>\n",
       "    <tr style=\"text-align: right;\">\n",
       "      <th></th>\n",
       "      <th>rain</th>\n",
       "      <th>outflow</th>\n",
       "    </tr>\n",
       "    <tr>\n",
       "      <th>date</th>\n",
       "      <th></th>\n",
       "      <th></th>\n",
       "    </tr>\n",
       "  </thead>\n",
       "  <tbody>\n",
       "    <tr>\n",
       "      <th>2010-01-01</th>\n",
       "      <td>1.270</td>\n",
       "      <td>6531.84</td>\n",
       "    </tr>\n",
       "    <tr>\n",
       "      <th>2010-01-02</th>\n",
       "      <td>2.032</td>\n",
       "      <td>6531.84</td>\n",
       "    </tr>\n",
       "    <tr>\n",
       "      <th>2010-01-03</th>\n",
       "      <td>25.654</td>\n",
       "      <td>74995.20</td>\n",
       "    </tr>\n",
       "    <tr>\n",
       "      <th>2010-01-04</th>\n",
       "      <td>13.462</td>\n",
       "      <td>33868.80</td>\n",
       "    </tr>\n",
       "    <tr>\n",
       "      <th>2010-01-05</th>\n",
       "      <td>24.638</td>\n",
       "      <td>101606.40</td>\n",
       "    </tr>\n",
       "    <tr>\n",
       "      <th>...</th>\n",
       "      <td>...</td>\n",
       "      <td>...</td>\n",
       "    </tr>\n",
       "    <tr>\n",
       "      <th>2019-01-28</th>\n",
       "      <td>0.000</td>\n",
       "      <td>4838.40</td>\n",
       "    </tr>\n",
       "    <tr>\n",
       "      <th>2019-01-29</th>\n",
       "      <td>0.000</td>\n",
       "      <td>5080.32</td>\n",
       "    </tr>\n",
       "    <tr>\n",
       "      <th>2019-01-30</th>\n",
       "      <td>0.000</td>\n",
       "      <td>5080.32</td>\n",
       "    </tr>\n",
       "    <tr>\n",
       "      <th>2019-01-31</th>\n",
       "      <td>0.508</td>\n",
       "      <td>5806.08</td>\n",
       "    </tr>\n",
       "    <tr>\n",
       "      <th>2020-01-01</th>\n",
       "      <td>0.000</td>\n",
       "      <td>8225.28</td>\n",
       "    </tr>\n",
       "  </tbody>\n",
       "</table>\n",
       "<p>311 rows × 2 columns</p>\n",
       "</div>"
      ],
      "text/plain": [
       "              rain    outflow\n",
       "date                         \n",
       "2010-01-01   1.270    6531.84\n",
       "2010-01-02   2.032    6531.84\n",
       "2010-01-03  25.654   74995.20\n",
       "2010-01-04  13.462   33868.80\n",
       "2010-01-05  24.638  101606.40\n",
       "...            ...        ...\n",
       "2019-01-28   0.000    4838.40\n",
       "2019-01-29   0.000    5080.32\n",
       "2019-01-30   0.000    5080.32\n",
       "2019-01-31   0.508    5806.08\n",
       "2020-01-01   0.000    8225.28\n",
       "\n",
       "[311 rows x 2 columns]"
      ]
     },
     "execution_count": 57,
     "metadata": {},
     "output_type": "execute_result"
    }
   ],
   "source": [
    "data_df_Jan"
   ]
  },
  {
   "cell_type": "markdown",
   "metadata": {},
   "source": [
    "We can also extract data comprised between two dates"
   ]
  },
  {
   "cell_type": "code",
   "execution_count": 58,
   "metadata": {},
   "outputs": [
    {
     "data": {
      "text/html": [
       "<div>\n",
       "<style scoped>\n",
       "    .dataframe tbody tr th:only-of-type {\n",
       "        vertical-align: middle;\n",
       "    }\n",
       "\n",
       "    .dataframe tbody tr th {\n",
       "        vertical-align: top;\n",
       "    }\n",
       "\n",
       "    .dataframe thead th {\n",
       "        text-align: right;\n",
       "    }\n",
       "</style>\n",
       "<table border=\"1\" class=\"dataframe\">\n",
       "  <thead>\n",
       "    <tr style=\"text-align: right;\">\n",
       "      <th></th>\n",
       "      <th>rain</th>\n",
       "      <th>outflow</th>\n",
       "    </tr>\n",
       "    <tr>\n",
       "      <th>date</th>\n",
       "      <th></th>\n",
       "      <th></th>\n",
       "    </tr>\n",
       "  </thead>\n",
       "  <tbody>\n",
       "    <tr>\n",
       "      <th>2011-02-01</th>\n",
       "      <td>0.000</td>\n",
       "      <td>4596.48</td>\n",
       "    </tr>\n",
       "    <tr>\n",
       "      <th>2011-02-02</th>\n",
       "      <td>0.000</td>\n",
       "      <td>4354.56</td>\n",
       "    </tr>\n",
       "    <tr>\n",
       "      <th>2011-02-03</th>\n",
       "      <td>1.270</td>\n",
       "      <td>5322.24</td>\n",
       "    </tr>\n",
       "    <tr>\n",
       "      <th>2011-02-04</th>\n",
       "      <td>0.000</td>\n",
       "      <td>4112.64</td>\n",
       "    </tr>\n",
       "    <tr>\n",
       "      <th>2011-02-05</th>\n",
       "      <td>0.000</td>\n",
       "      <td>4112.64</td>\n",
       "    </tr>\n",
       "    <tr>\n",
       "      <th>2011-02-06</th>\n",
       "      <td>0.000</td>\n",
       "      <td>3870.72</td>\n",
       "    </tr>\n",
       "    <tr>\n",
       "      <th>2011-02-07</th>\n",
       "      <td>0.000</td>\n",
       "      <td>3870.72</td>\n",
       "    </tr>\n",
       "    <tr>\n",
       "      <th>2011-02-08</th>\n",
       "      <td>0.000</td>\n",
       "      <td>3870.72</td>\n",
       "    </tr>\n",
       "    <tr>\n",
       "      <th>2011-02-09</th>\n",
       "      <td>0.000</td>\n",
       "      <td>3870.72</td>\n",
       "    </tr>\n",
       "    <tr>\n",
       "      <th>2011-02-10</th>\n",
       "      <td>0.000</td>\n",
       "      <td>3870.72</td>\n",
       "    </tr>\n",
       "    <tr>\n",
       "      <th>2011-02-11</th>\n",
       "      <td>0.000</td>\n",
       "      <td>3870.72</td>\n",
       "    </tr>\n",
       "    <tr>\n",
       "      <th>2011-02-12</th>\n",
       "      <td>0.000</td>\n",
       "      <td>3870.72</td>\n",
       "    </tr>\n",
       "    <tr>\n",
       "      <th>2011-02-13</th>\n",
       "      <td>0.000</td>\n",
       "      <td>3870.72</td>\n",
       "    </tr>\n",
       "    <tr>\n",
       "      <th>2011-02-14</th>\n",
       "      <td>0.000</td>\n",
       "      <td>3870.72</td>\n",
       "    </tr>\n",
       "    <tr>\n",
       "      <th>2011-02-15</th>\n",
       "      <td>6.096</td>\n",
       "      <td>12337.92</td>\n",
       "    </tr>\n",
       "    <tr>\n",
       "      <th>2011-02-16</th>\n",
       "      <td>6.096</td>\n",
       "      <td>19111.68</td>\n",
       "    </tr>\n",
       "    <tr>\n",
       "      <th>2011-02-17</th>\n",
       "      <td>0.000</td>\n",
       "      <td>4354.56</td>\n",
       "    </tr>\n",
       "    <tr>\n",
       "      <th>2011-02-18</th>\n",
       "      <td>0.000</td>\n",
       "      <td>3870.72</td>\n",
       "    </tr>\n",
       "    <tr>\n",
       "      <th>2011-02-19</th>\n",
       "      <td>0.000</td>\n",
       "      <td>3870.72</td>\n",
       "    </tr>\n",
       "    <tr>\n",
       "      <th>2011-02-20</th>\n",
       "      <td>0.000</td>\n",
       "      <td>3870.72</td>\n",
       "    </tr>\n",
       "    <tr>\n",
       "      <th>2011-02-21</th>\n",
       "      <td>0.000</td>\n",
       "      <td>4112.64</td>\n",
       "    </tr>\n",
       "    <tr>\n",
       "      <th>2011-02-22</th>\n",
       "      <td>0.000</td>\n",
       "      <td>4112.64</td>\n",
       "    </tr>\n",
       "    <tr>\n",
       "      <th>2011-02-23</th>\n",
       "      <td>0.000</td>\n",
       "      <td>3870.72</td>\n",
       "    </tr>\n",
       "    <tr>\n",
       "      <th>2011-02-24</th>\n",
       "      <td>0.000</td>\n",
       "      <td>3870.72</td>\n",
       "    </tr>\n",
       "    <tr>\n",
       "      <th>2011-02-25</th>\n",
       "      <td>0.000</td>\n",
       "      <td>3870.72</td>\n",
       "    </tr>\n",
       "    <tr>\n",
       "      <th>2011-02-26</th>\n",
       "      <td>0.000</td>\n",
       "      <td>3870.72</td>\n",
       "    </tr>\n",
       "    <tr>\n",
       "      <th>2011-02-27</th>\n",
       "      <td>0.000</td>\n",
       "      <td>4112.64</td>\n",
       "    </tr>\n",
       "    <tr>\n",
       "      <th>2011-02-28</th>\n",
       "      <td>0.000</td>\n",
       "      <td>4112.64</td>\n",
       "    </tr>\n",
       "  </tbody>\n",
       "</table>\n",
       "</div>"
      ],
      "text/plain": [
       "             rain   outflow\n",
       "date                       \n",
       "2011-02-01  0.000   4596.48\n",
       "2011-02-02  0.000   4354.56\n",
       "2011-02-03  1.270   5322.24\n",
       "2011-02-04  0.000   4112.64\n",
       "2011-02-05  0.000   4112.64\n",
       "2011-02-06  0.000   3870.72\n",
       "2011-02-07  0.000   3870.72\n",
       "2011-02-08  0.000   3870.72\n",
       "2011-02-09  0.000   3870.72\n",
       "2011-02-10  0.000   3870.72\n",
       "2011-02-11  0.000   3870.72\n",
       "2011-02-12  0.000   3870.72\n",
       "2011-02-13  0.000   3870.72\n",
       "2011-02-14  0.000   3870.72\n",
       "2011-02-15  6.096  12337.92\n",
       "2011-02-16  6.096  19111.68\n",
       "2011-02-17  0.000   4354.56\n",
       "2011-02-18  0.000   3870.72\n",
       "2011-02-19  0.000   3870.72\n",
       "2011-02-20  0.000   3870.72\n",
       "2011-02-21  0.000   4112.64\n",
       "2011-02-22  0.000   4112.64\n",
       "2011-02-23  0.000   3870.72\n",
       "2011-02-24  0.000   3870.72\n",
       "2011-02-25  0.000   3870.72\n",
       "2011-02-26  0.000   3870.72\n",
       "2011-02-27  0.000   4112.64\n",
       "2011-02-28  0.000   4112.64"
      ]
     },
     "execution_count": 58,
     "metadata": {},
     "output_type": "execute_result"
    }
   ],
   "source": [
    "data_df['2011-02-01':'2011-02-28']"
   ]
  },
  {
   "cell_type": "code",
   "execution_count": 59,
   "metadata": {},
   "outputs": [
    {
     "name": "stderr",
     "output_type": "stream",
     "text": [
      "C:\\Users\\andro\\AppData\\Local\\Temp\\ipykernel_15496\\544510719.py:1: UserWarning: Boolean Series key will be reindexed to match DataFrame index.\n",
      "  data_df['2011-02-01':'2011-02-28'][data_df['outflow']>4000] # and add another condition\n"
     ]
    },
    {
     "data": {
      "text/html": [
       "<div>\n",
       "<style scoped>\n",
       "    .dataframe tbody tr th:only-of-type {\n",
       "        vertical-align: middle;\n",
       "    }\n",
       "\n",
       "    .dataframe tbody tr th {\n",
       "        vertical-align: top;\n",
       "    }\n",
       "\n",
       "    .dataframe thead th {\n",
       "        text-align: right;\n",
       "    }\n",
       "</style>\n",
       "<table border=\"1\" class=\"dataframe\">\n",
       "  <thead>\n",
       "    <tr style=\"text-align: right;\">\n",
       "      <th></th>\n",
       "      <th>rain</th>\n",
       "      <th>outflow</th>\n",
       "    </tr>\n",
       "    <tr>\n",
       "      <th>date</th>\n",
       "      <th></th>\n",
       "      <th></th>\n",
       "    </tr>\n",
       "  </thead>\n",
       "  <tbody>\n",
       "    <tr>\n",
       "      <th>2011-02-01</th>\n",
       "      <td>0.000</td>\n",
       "      <td>4596.48</td>\n",
       "    </tr>\n",
       "    <tr>\n",
       "      <th>2011-02-02</th>\n",
       "      <td>0.000</td>\n",
       "      <td>4354.56</td>\n",
       "    </tr>\n",
       "    <tr>\n",
       "      <th>2011-02-03</th>\n",
       "      <td>1.270</td>\n",
       "      <td>5322.24</td>\n",
       "    </tr>\n",
       "    <tr>\n",
       "      <th>2011-02-04</th>\n",
       "      <td>0.000</td>\n",
       "      <td>4112.64</td>\n",
       "    </tr>\n",
       "    <tr>\n",
       "      <th>2011-02-05</th>\n",
       "      <td>0.000</td>\n",
       "      <td>4112.64</td>\n",
       "    </tr>\n",
       "    <tr>\n",
       "      <th>2011-02-15</th>\n",
       "      <td>6.096</td>\n",
       "      <td>12337.92</td>\n",
       "    </tr>\n",
       "    <tr>\n",
       "      <th>2011-02-16</th>\n",
       "      <td>6.096</td>\n",
       "      <td>19111.68</td>\n",
       "    </tr>\n",
       "    <tr>\n",
       "      <th>2011-02-17</th>\n",
       "      <td>0.000</td>\n",
       "      <td>4354.56</td>\n",
       "    </tr>\n",
       "    <tr>\n",
       "      <th>2011-02-21</th>\n",
       "      <td>0.000</td>\n",
       "      <td>4112.64</td>\n",
       "    </tr>\n",
       "    <tr>\n",
       "      <th>2011-02-22</th>\n",
       "      <td>0.000</td>\n",
       "      <td>4112.64</td>\n",
       "    </tr>\n",
       "    <tr>\n",
       "      <th>2011-02-27</th>\n",
       "      <td>0.000</td>\n",
       "      <td>4112.64</td>\n",
       "    </tr>\n",
       "    <tr>\n",
       "      <th>2011-02-28</th>\n",
       "      <td>0.000</td>\n",
       "      <td>4112.64</td>\n",
       "    </tr>\n",
       "  </tbody>\n",
       "</table>\n",
       "</div>"
      ],
      "text/plain": [
       "             rain   outflow\n",
       "date                       \n",
       "2011-02-01  0.000   4596.48\n",
       "2011-02-02  0.000   4354.56\n",
       "2011-02-03  1.270   5322.24\n",
       "2011-02-04  0.000   4112.64\n",
       "2011-02-05  0.000   4112.64\n",
       "2011-02-15  6.096  12337.92\n",
       "2011-02-16  6.096  19111.68\n",
       "2011-02-17  0.000   4354.56\n",
       "2011-02-21  0.000   4112.64\n",
       "2011-02-22  0.000   4112.64\n",
       "2011-02-27  0.000   4112.64\n",
       "2011-02-28  0.000   4112.64"
      ]
     },
     "execution_count": 59,
     "metadata": {},
     "output_type": "execute_result"
    }
   ],
   "source": [
    "data_df['2011-02-01':'2011-02-28'][data_df['outflow']>4000] # and add another condition"
   ]
  },
  {
   "cell_type": "markdown",
   "metadata": {},
   "source": [
    "We can also save the extracted data into an Excel file by using the Pandas function *to_excel*"
   ]
  },
  {
   "cell_type": "code",
   "execution_count": 60,
   "metadata": {},
   "outputs": [
    {
     "name": "stderr",
     "output_type": "stream",
     "text": [
      "C:\\Users\\andro\\AppData\\Local\\Temp\\ipykernel_15496\\3925075366.py:1: UserWarning: Boolean Series key will be reindexed to match DataFrame index.\n",
      "  data_df_Feb2011_4000 = data_df['2011-02-01':'2011-02-28'][data_df['outflow']>4000]\n"
     ]
    }
   ],
   "source": [
    "data_df_Feb2011_4000 = data_df['2011-02-01':'2011-02-28'][data_df['outflow']>4000]"
   ]
  },
  {
   "cell_type": "code",
   "execution_count": 64,
   "metadata": {},
   "outputs": [],
   "source": [
    "pd.DataFrame.to_excel(data_df_Feb2011_4000, 'datos/data_df_Feb2011_4000.xlsx')"
   ]
  },
  {
   "cell_type": "markdown",
   "metadata": {},
   "source": [
    "## 3. Matplotlib\n",
    "Matplotlib is a Python library specialized in creating two-dimensional plots. It lets you create and customize the most common types of charts:\n",
    "- Line graphs\n",
    "- Bar graphs\n",
    "- Dot plots\n",
    "- Box and whisker plots\n",
    "...\n",
    "\n",
    "In this course we are going to see how to create a simple graph and how to customize it with a few functions.\n",
    "\n",
    "<img src='util/Matplotlib_funciones.png'>\n",
    "\n",
    "But if you want to know more about the different types of graphs available with Matplotlib: (https://matplotlib.org/2.0.2/gallery.html). And what parameters we can use to modify them: https://matplotlib.org/stable/plot_types/index\n",
    "\n",
    "The first thing is to import the library. Specifically, we must import a Matplotlib module called `pyplot` and which we are going to call `plt`."
   ]
  },
  {
   "cell_type": "code",
   "execution_count": 65,
   "metadata": {},
   "outputs": [],
   "source": [
    "import matplotlib.pyplot as plt"
   ]
  },
  {
   "cell_type": "markdown",
   "metadata": {},
   "source": [
    "Let's plot the rainfall data from the *data_df* dataframe using the function plot."
   ]
  },
  {
   "cell_type": "code",
   "execution_count": 66,
   "metadata": {},
   "outputs": [
    {
     "data": {
      "text/plain": [
       "[<matplotlib.lines.Line2D at 0x20124479f10>]"
      ]
     },
     "execution_count": 66,
     "metadata": {},
     "output_type": "execute_result"
    },
    {
     "data": {
      "image/png": "[encoded data removed]",
      "text/plain": [
       "<Figure size 432x288 with 1 Axes>"
      ]
     },
     "metadata": {
      "needs_background": "light"
     },
     "output_type": "display_data"
    }
   ],
   "source": [
    "plt.plot(data_df['rain'])"
   ]
  },
  {
   "cell_type": "markdown",
   "metadata": {},
   "source": [
    "We would like to change the size of the plot area to facilitate the visualization the plotted data"
   ]
  },
  {
   "cell_type": "code",
   "execution_count": 69,
   "metadata": {},
   "outputs": [
    {
     "data": {
      "text/plain": [
       "[<matplotlib.lines.Line2D at 0x20124e9fac0>]"
      ]
     },
     "execution_count": 69,
     "metadata": {},
     "output_type": "execute_result"
    },
    {
     "data": {
      "image/png": "[encoded data removed]",
      "text/plain": [
       "<Figure size 1080x216 with 1 Axes>"
      ]
     },
     "metadata": {
      "needs_background": "light"
     },
     "output_type": "display_data"
    }
   ],
   "source": [
    "plt.figure(figsize=(15,3)) # to define the plot size\n",
    "plt.plot(data_df['rain'], color = 'darkblue')"
   ]
  },
  {
   "cell_type": "markdown",
   "metadata": {},
   "source": [
    "Now we would like to change the color of the plotted line"
   ]
  },
  {
   "cell_type": "code",
   "execution_count": null,
   "metadata": {},
   "outputs": [],
   "source": [
    "plt.figure(figsize=(15,3)) # to define the plot size\n",
    "plt.plot(data_df['rain'])"
   ]
  },
  {
   "cell_type": "markdown",
   "metadata": {},
   "source": [
    "Let's now indicate the units of the y axis, in this case mm/day"
   ]
  },
  {
   "cell_type": "code",
   "execution_count": 71,
   "metadata": {},
   "outputs": [
    {
     "data": {
      "text/plain": [
       "(0.0, 50.0)"
      ]
     },
     "execution_count": 71,
     "metadata": {},
     "output_type": "execute_result"
    },
    {
     "data": {
      "image/png": "[encoded data removed]",
      "text/plain": [
       "<Figure size 1080x216 with 1 Axes>"
      ]
     },
     "metadata": {
      "needs_background": "light"
     },
     "output_type": "display_data"
    }
   ],
   "source": [
    "plt.figure(figsize=(15,3)) # to define the plot size\n",
    "plt.plot(data_df['rain'], color = 'darkblue')\n",
    "plt.ylabel('mm/day')\n",
    "plt.ylim([0,50])"
   ]
  },
  {
   "cell_type": "markdown",
   "metadata": {},
   "source": [
    "Now we would like to plot only data for the year 2018"
   ]
  },
  {
   "cell_type": "code",
   "execution_count": 77,
   "metadata": {},
   "outputs": [
    {
     "data": {
      "text/plain": [
       "(0.0, 50.0)"
      ]
     },
     "execution_count": 77,
     "metadata": {},
     "output_type": "execute_result"
    },
    {
     "data": {
      "image/png": "[encoded data removed]",
      "text/plain": [
       "<Figure size 1080x216 with 1 Axes>"
      ]
     },
     "metadata": {
      "needs_background": "light"
     },
     "output_type": "display_data"
    }
   ],
   "source": [
    "data_df_2018 = data_df[data_df.index.year == 2018]\n",
    "\n",
    "plt.figure(figsize=(15,3)) # to define the plot size\n",
    "plt.plot(data_df_2018['rain'], color = 'darkblue',linewidth = 10)\n",
    "plt.ylabel('mm/day')\n",
    "plt.ylim([0,50])"
   ]
  },
  {
   "cell_type": "markdown",
   "metadata": {},
   "source": [
    "What if we would like to represent as a bar plot instead of a line. For that purpose we can use the function *bar* instead of *plot*"
   ]
  },
  {
   "cell_type": "code",
   "execution_count": 78,
   "metadata": {},
   "outputs": [
    {
     "data": {
      "text/plain": [
       "(0.0, 50.0)"
      ]
     },
     "execution_count": 78,
     "metadata": {},
     "output_type": "execute_result"
    },
    {
     "data": {
      "image/png": "[encoded data removed]",
      "text/plain": [
       "<Figure size 1080x216 with 1 Axes>"
      ]
     },
     "metadata": {
      "needs_background": "light"
     },
     "output_type": "display_data"
    }
   ],
   "source": [
    "plt.figure(figsize=(15,3)) # to define the plot size\n",
    "plt.bar(x = data_df_2018.index, height = data_df_2018['rain'], color = 'darkblue', width = 10)\n",
    "plt.ylabel('mm/day')\n",
    "plt.ylim([0,50])"
   ]
  },
  {
   "cell_type": "markdown",
   "metadata": {},
   "source": [
    "⚡ We get an error, do you know why? Hint: have a look at the help menu of the function *bar*"
   ]
  },
  {
   "cell_type": "code",
   "execution_count": null,
   "metadata": {},
   "outputs": [],
   "source": []
  },
  {
   "cell_type": "markdown",
   "metadata": {},
   "source": [
    "### Subplots\n",
    "With this Matplotlib function we are going to be able to combine different data in the same plot area."
   ]
  },
  {
   "cell_type": "code",
   "execution_count": null,
   "metadata": {},
   "outputs": [],
   "source": []
  },
  {
   "cell_type": "markdown",
   "metadata": {},
   "source": [
    "Now let's combine the rainfall and outflow graphs in the same plot area"
   ]
  },
  {
   "cell_type": "code",
   "execution_count": null,
   "metadata": {},
   "outputs": [],
   "source": []
  },
  {
   "cell_type": "markdown",
   "metadata": {},
   "source": [
    "Or combine the rainfall and outflow data in the same graph"
   ]
  },
  {
   "cell_type": "code",
   "execution_count": null,
   "metadata": {},
   "outputs": [],
   "source": []
  },
  {
   "cell_type": "code",
   "execution_count": null,
   "metadata": {},
   "outputs": [],
   "source": []
  }
 ],
 "metadata": {
  "kernelspec": {
   "display_name": "Python 3 (ipykernel)",
   "language": "python",
   "name": "python3"
  },
  "language_info": {
   "codemirror_mode": {
    "name": "ipython",
    "version": 3
   },
   "file_extension": ".py",
   "mimetype": "text/x-python",
   "name": "python",
   "nbconvert_exporter": "python",
   "pygments_lexer": "ipython3",
   "version": "3.9.12"
  },
  "varInspector": {
   "cols": {
    "lenName": 16,
    "lenType": 16,
    "lenVar": 40
   },
   "kernels_config": {
    "python": {
     "delete_cmd_postfix": "",
     "delete_cmd_prefix": "del ",
     "library": "var_list.py",
     "varRefreshCmd": "print(var_dic_list())"
    },
    "r": {
     "delete_cmd_postfix": ") ",
     "delete_cmd_prefix": "rm(",
     "library": "var_list.r",
     "varRefreshCmd": "cat(var_dic_list()) "
    }
   },
   "types_to_exclude": [
    "module",
    "function",
    "builtin_function_or_method",
    "instance",
    "_Feature"
   ],
   "window_display": false
  }
 },
 "nbformat": 4,
 "nbformat_minor": 4
}
